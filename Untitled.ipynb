{
 "cells": [
  {
   "cell_type": "code",
   "execution_count": 18,
   "metadata": {},
   "outputs": [
    {
     "name": "stdout",
     "output_type": "stream",
     "text": [
      "['https://www.ncbi.nlm.nih.gov/pmc/journals/?filter=1&titles=current&search=journals', 'https://www.ncbi.nlm.nih.gov/pmc/journals/?filter=2&titles=current&search=journals', 'https://www.ncbi.nlm.nih.gov/pmc/journals/?filter=3&titles=current&search=journals', 'https://www.ncbi.nlm.nih.gov/pmc/journals/?filter=4&titles=current&search=journals', 'https://www.ncbi.nlm.nih.gov/pmc/journals/?filter=5&titles=current&search=journals', 'https://www.ncbi.nlm.nih.gov/pmc/journals/?filter=new&titles=current&search=journals']\n"
     ]
    }
   ],
   "source": [
    "urls = [\"1\", \"2\", \"3\", \"4\", \"5\", \"new\"]\n",
    "PMC_journal = []\n",
    "for url in urls:\n",
    "    pre= \"https://www.ncbi.nlm.nih.gov/pmc/journals/?filter=\"\n",
    "    suf= \"&titles=current&search=journals\"\n",
    "    PMC_journal.append(pre+url+suf)\n",
    "print(PMC_journal)"
   ]
  },
  {
   "cell_type": "code",
   "execution_count": 21,
   "metadata": {},
   "outputs": [],
   "source": [
    "### PMC 저널들의 URL 가져오는 함수\n",
    "import requests\n",
    "from bs4 import BeautifulSoup\n",
    "def get_journals_url():\n",
    "    journal_url_list = []\n",
    "    ###방법2\n",
    "    ###html 문서를 가져옵니다\n",
    "    for url in PMC_journal:\n",
    "        res = requests.get(url)\n",
    "        res = res.text \n",
    "\n",
    "        ###html 문서를 파싱합니다.\n",
    "        soup = BeautifulSoup(res, 'html.parser')\n",
    "\n",
    "        ###논문 제목을 가져옵니다.\n",
    "        for link in soup.find_all(class_=\"jlist-title\"):\n",
    "            journal_url_list.append(\"https://www.ncbi.nlm.nih.gov\"+link.a.get('href'))\n",
    "        \n",
    "    return journal_url_list"
   ]
  },
  {
   "cell_type": "code",
   "execution_count": null,
   "metadata": {},
   "outputs": [],
   "source": [
    "journal_url_list = get_journals_url()"
   ]
  },
  {
   "cell_type": "code",
   "execution_count": 26,
   "metadata": {},
   "outputs": [],
   "source": [
    "### 검색하는 저널과 일반 저널 url 분류\n",
    "import re\n",
    "def split_url(urls):\n",
    "    search_url = []\n",
    "    no_search_url = []\n",
    "    for url in urls:\n",
    "        p = re.compile('\\?')\n",
    "        if p.search(url) is None:\n",
    "            search_url.append(url)\n",
    "        else:\n",
    "            no_search_url.append(url)\n",
    "    return search_url, no_search_url\n",
    "search_journals, no_search_journals = split_url(journal_url_list)"
   ]
  },
  {
   "cell_type": "code",
   "execution_count": 30,
   "metadata": {},
   "outputs": [
    {
     "name": "stdout",
     "output_type": "stream",
     "text": [
      "2276\n",
      "391\n"
     ]
    }
   ],
   "source": [
    "print(len(search_journals))\n",
    "print(len(no_search_journals))"
   ]
  },
  {
   "cell_type": "code",
   "execution_count": null,
   "metadata": {},
   "outputs": [],
   "source": [
    "### 한 저널의 연도 및 개최별 URL 가져오는 함수\n",
    "def get_journals_url(url):\n",
    "    journal_url_list = []\n",
    "    ###방법2\n",
    "    ###html 문서를 가져옵니다\n",
    "    res = requests.get(url)\n",
    "    res = res.text \n",
    "\n",
    "    ###html 문서를 파싱합니다.\n",
    "    soup = BeautifulSoup(res, 'html.parser')\n",
    "\n",
    "    ###논문 제목을 가져옵니다.\n",
    "    for link in soup.find_all(class_=\"iss-cell\"):\n",
    "        journal_url_list.append(\"https://www.ncbi.nlm.nih.gov\"+link.a.get('href'))\n",
    "        \n",
    "    return journal_url_list"
   ]
  },
  {
   "cell_type": "code",
   "execution_count": null,
   "metadata": {},
   "outputs": [],
   "source": []
  }
 ],
 "metadata": {
  "kernelspec": {
   "display_name": "Python 3",
   "language": "python",
   "name": "python3"
  },
  "language_info": {
   "codemirror_mode": {
    "name": "ipython",
    "version": 3
   },
   "file_extension": ".py",
   "mimetype": "text/x-python",
   "name": "python",
   "nbconvert_exporter": "python",
   "pygments_lexer": "ipython3",
   "version": "3.7.4"
  }
 },
 "nbformat": 4,
 "nbformat_minor": 2
}
