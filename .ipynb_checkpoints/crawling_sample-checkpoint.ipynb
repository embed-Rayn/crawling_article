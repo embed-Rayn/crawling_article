{
 "cells": [
  {
   "cell_type": "code",
   "execution_count": 44,
   "metadata": {},
   "outputs": [],
   "source": [
    "from bs4 import BeautifulSoup\n",
    "import requests\n",
    "import json\n",
    "target_url = 'https://www.ncbi.nlm.nih.gov/pmc/articles/PMC5762458/'\n",
    "def url2json(URL):\n",
    "    ###방법2\n",
    "    ###html 문서를 가져옵니다\n",
    "    res = requests.get(target_url)\n",
    "    res = res.text \n",
    "\n",
    "    ###html 문서를 파싱합니다.\n",
    "    soup = BeautifulSoup(res, 'html.parser')\n",
    "    \n",
    "    ###논문 제목을 가져옵니다.\n",
    "    paper_title = str(soup.title.string)\n",
    "    \n",
    "    ###논문 abstract를 가져옵니다.\n",
    "    abstract_background = soup.find(id=\"__p1\").text\n",
    "    abstract_objective = soup.find(id=\"__p2\").text\n",
    "    abstract_method = soup.find(id=\"__p3\").text\n",
    "    abstract_result = soup.find(id=\"__p4\").text\n",
    "    abstract_conclusion = soup.find(id=\"__p5\").text\n",
    "    \n",
    "    ###논문 키워드를 가져옵니다.\n",
    "    keywords = soup.find_all(\"span\", class_=\"kwd-text\")[0].text.split(\",\")\n",
    "    \n",
    "    ###json 파일로 변환\n",
    "    abstract_dict = {}\n",
    "    doc_dict={}\n",
    "    abstract_dict[\"background\"] = abstract_background\n",
    "    abstract_dict[\"objective\"] = abstract_objective\n",
    "    abstract_dict[\"method\"] = abstract_method\n",
    "    abstract_dict[\"result\"] = abstract_result\n",
    "    abstract_dict[\"conclusion\"] = abstract_conclusion\n",
    "    doc_dict[\"title\"] = paper_title\n",
    "    doc_dict[\"abstract\"] = abstract_dict\n",
    "    doc_dict[\"keyword\"] = keywords\n",
    "    \n",
    "    return json.dumps(doc_dict)"
   ]
  },
  {
   "cell_type": "code",
   "execution_count": 45,
   "metadata": {},
   "outputs": [
    {
     "name": "stdout",
     "output_type": "stream",
     "text": [
      "{\"title\": \"Treatment of Melasma with Pulsed-Dye Laser and 1,064-nm Q-Switched Nd:YAG Laser: A Split-Face Study\", \"abstract\": {\"background\": \"Melasma is an acquired pigmentary disorder that is often therapeutically challenging. Recent evidence suggests that vascular abnormalities are involved in melasma pathogenesis. Pulsed-dye laser (PDL) is considered as standard therapy for vascular lesions.\", \"objective\": \"To assess the efficacy of PDL combined with low-fluence Q-switched Nd:YAG laser (QSNY) in the treatment of melasma.\", \"method\": \"Seventeen melasma patients were enrolled in this study. All subjects were treated with a total of nine QSNY treatment sessions at one-week intervals. Three sessions of PDL were additionally performed immediately after QSNY treatment on the half of the face at baseline, week 4, and week 8. The melasma area and the severity index (MASI) score was calculated at the baseline, one week after the last treatment (week 9), as well as at the follow-up 8 weeks after the last treatment (week 16). Dermoscopic images at the baseline were classified as to whether the visibly widened capillaries were detected or not.\", \"result\": \"MASI scores on the PDL+QSNY and QSNY side decreased significantly during the study period. There was no significant difference in the MASI score change between both sides in all periods. However, seven patients who had visibly widened capillaries on dermoscopy showed significant difference in both sides in terms of changes in the MASI score during treatment.\", \"conclusion\": \"PDL combined with QSNY may be considered as a safe and effective treatment for melasma patients who show visibly widened capillaries on dermoscopy.\"}, \"keyword\": [\"Dermoscopy\", \" Melasma\", \" Pulsed dye lasers\", \" Q-switched lasers\"]}\n"
     ]
    }
   ],
   "source": [
    "json_file = url2json(target_url)\n",
    "print(json_file)"
   ]
  },
  {
   "cell_type": "code",
   "execution_count": null,
   "metadata": {},
   "outputs": [],
   "source": []
  }
 ],
 "metadata": {
  "kernelspec": {
   "display_name": "Python 3",
   "language": "python",
   "name": "python3"
  },
  "language_info": {
   "codemirror_mode": {
    "name": "ipython",
    "version": 3
   },
   "file_extension": ".py",
   "mimetype": "text/x-python",
   "name": "python",
   "nbconvert_exporter": "python",
   "pygments_lexer": "ipython3",
   "version": "3.7.4"
  }
 },
 "nbformat": 4,
 "nbformat_minor": 2
}
