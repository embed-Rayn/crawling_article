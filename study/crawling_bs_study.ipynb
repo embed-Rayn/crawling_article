{
 "cells": [
  {
   "cell_type": "code",
   "execution_count": 3,
   "metadata": {},
   "outputs": [],
   "source": [
    "import urllib.request, urllib.parse, urllib.error\n",
    "from bs4 import BeautifulSoup\n",
    "import requests\n",
    "target_url = 'https://www.ncbi.nlm.nih.gov/pmc/articles/PMC5762458/'\n",
    "'''\n",
    "###방법 1\n",
    "###html 문서를 가져옵니다.\n",
    "html = urllib.request.urlopen(target_url).read()\n",
    "\n",
    "###html 문서를 파싱합니다.\n",
    "soup = BeautifulSoup(html, 'html.parser')\n",
    "'''\n",
    "###방법2\n",
    "###html 문서를 가져옵니다\n",
    "res = requests.get(target_url)\n",
    "res = res.text \n",
    "\n",
    "###html 문서를 파싱합니다.\n",
    "soup = BeautifulSoup(res, 'html.parser')"
   ]
  },
  {
   "cell_type": "code",
   "execution_count": 48,
   "metadata": {},
   "outputs": [],
   "source": [
    "###html 문서를 보기 편하게 합니다.\n",
    "#print(soup.prettify())"
   ]
  },
  {
   "cell_type": "code",
   "execution_count": 49,
   "metadata": {},
   "outputs": [
    {
     "name": "stdout",
     "output_type": "stream",
     "text": [
      "<title>Treatment of Melasma with Pulsed-Dye Laser and 1,064-nm Q-Switched Nd:YAG Laser: A Split-Face Study</title>\n"
     ]
    }
   ],
   "source": [
    "### <title>The Dormouse's story</title>\n",
    "print(soup.title)"
   ]
  },
  {
   "cell_type": "code",
   "execution_count": 10,
   "metadata": {},
   "outputs": [
    {
     "name": "stdout",
     "output_type": "stream",
     "text": [
      "title\n"
     ]
    }
   ],
   "source": [
    "### u'title'\n",
    "print(soup.title.name)"
   ]
  },
  {
   "cell_type": "code",
   "execution_count": 50,
   "metadata": {},
   "outputs": [
    {
     "name": "stdout",
     "output_type": "stream",
     "text": [
      "Treatment of Melasma with Pulsed-Dye Laser and 1,064-nm Q-Switched Nd:YAG Laser: A Split-Face Study\n"
     ]
    }
   ],
   "source": [
    "### u'The Dormouse's story'\n",
    "print(soup.title.string)"
   ]
  },
  {
   "cell_type": "code",
   "execution_count": 12,
   "metadata": {},
   "outputs": [
    {
     "name": "stdout",
     "output_type": "stream",
     "text": [
      "head\n"
     ]
    }
   ],
   "source": [
    "### u'head'\n",
    "print(soup.title.parent.name)"
   ]
  },
  {
   "cell_type": "code",
   "execution_count": 13,
   "metadata": {},
   "outputs": [
    {
     "name": "stdout",
     "output_type": "stream",
     "text": [
      "<p class=\"etc_btn\">\n",
      "<a class=\"sch_dt\" href=\"/ndsl/search/detail/articleDetailsearch.do;jsessionid=SqwBwdbW1jgwFAi1kRXnBOiSp5g82L5lE88FlO4EfH5oJqwpynVBuIdVTMT3v6tp.al228_servlet_engine11\" title=\"상세검색\">상세검색</a>\n",
      "<a class=\"multi_kb\" href=\"javascript:void(0);\" onclick=\"fncLangModalOpen();\" title=\"다국어 입력창 열기\">다국어입력</a>\n",
      "</p>\n"
     ]
    }
   ],
   "source": [
    "### <p class=\"title\"><b>The Dormouse's story</b></p>\n",
    "print(soup.p)"
   ]
  },
  {
   "cell_type": "code",
   "execution_count": 32,
   "metadata": {},
   "outputs": [
    {
     "name": "stdout",
     "output_type": "stream",
     "text": [
      "['etc_btn']\n",
      "<span>본문 바로가기</span>\n"
     ]
    }
   ],
   "source": [
    "### u'title'\n",
    "print(soup.p['class'])\n",
    "print(soup.span)"
   ]
  },
  {
   "cell_type": "code",
   "execution_count": 15,
   "metadata": {},
   "outputs": [
    {
     "name": "stdout",
     "output_type": "stream",
     "text": [
      "<a href=\"#container\"><span>본문 바로가기</span></a>\n"
     ]
    }
   ],
   "source": [
    "### <a class=\"sister\" href=\"http://example.com/elsie\" id=\"link1\">Elsie</a>\n",
    "print(soup.a)"
   ]
  },
  {
   "cell_type": "code",
   "execution_count": 16,
   "metadata": {},
   "outputs": [
    {
     "name": "stdout",
     "output_type": "stream",
     "text": [
      "[<a href=\"#container\"><span>본문 바로가기</span></a>, <a href=\"/ndsl/main/main.do;jsessionid=SqwBwdbW1jgwFAi1kRXnBOiSp5g82L5lE88FlO4EfH5oJqwpynVBuIdVTMT3v6tp.al228_servlet_engine11\">NDSL</a>, <a class=\"sel_btn\" href=\"javascript:void(0);\" id=\"selTxt\" onclick=\"fncPopupOpen(this,'menuModal');\">전체</a>, <a href=\"javascript:void(0);\"><span class=\"txt_em\">na</span>chr</a>, <a href=\"javascript:void(0);\"><span class=\"txt_em\">na</span>d</a>, <a href=\"javascript:void(0);\"><span class=\"txt_em\">na</span>ilfold</a>, <a href=\"javascript:void(0);\"><span class=\"txt_em\">na</span>nd</a>, <a href=\"javascript:void(0);\"><span class=\"txt_em\">na</span>nd flash</a>, <a href=\"javascript:void(0);\"><span class=\"txt_em\">na</span>nda</a>, <a href=\"javascript:void(0);\"><span class=\"txt_em\">na</span>no</a>, <a href=\"javascript:void(0);\">coro<span class=\"txt_em\">na</span></a>, <a href=\"javascript:void(0);\">d<span class=\"txt_em\">na</span></a>, <a href=\"javascript:void(0);\">alumi<span class=\"txt_em\">na</span></a>, <a href=\"javascript:void(0);\">antenna<span class=\"txt_em\">na</span></a>, <a href=\"javascript:void(0);\">microrna<span class=\"txt_em\">na</span></a>, <a class=\"sch_dt\" href=\"/ndsl/search/detail/articleDetailsearch.do;jsessionid=SqwBwdbW1jgwFAi1kRXnBOiSp5g82L5lE88FlO4EfH5oJqwpynVBuIdVTMT3v6tp.al228_servlet_engine11\" title=\"상세검색\">상세검색</a>, <a class=\"multi_kb\" href=\"javascript:void(0);\" onclick=\"fncLangModalOpen();\" title=\"다국어 입력창 열기\">다국어입력</a>, <a class=\"btn_logout\" href=\"javascript:void(0);\" title=\"로그인\"><span class=\"ico_ndsl ico_user\"></span>로그인</a>, <a href=\"javascript:void(0);\" id=\"menuIcon\" title=\"메뉴보기\"><span class=\"ico_ndsl ico_menu\"></span>메뉴보기</a>, <a href=\"javascript:void(0);\" onclick=\"javascript:fncPinLogInsert('P01', this, 'U', 'http://www.ndsl.kr/ndsl/about/ed/infosearchNdPrcuse.do'); return false;\" target=\"_blank\">\n",
      "<img alt=\"NDSL 정보검색 가이드\" src=\"http://www.ndsl.kr/ndsl/commons/util/imgFileView.do?gubun=banner&amp;fileNm=20180423_435940404509082.png\"/>\n",
      "<span class=\"box_border\"></span>\n",
      "</a>, <a class=\"cnType\" data-type=\"recomend\" href=\"javascript:void(0);\">추천</a>, <a class=\"cnType\" data-type=\"all\" href=\"javascript:void(0);\">전체</a>, <a class=\"main_tab_btn\" data-col=\"pp\" data-type=\"all\" href=\"javascript:void(0);\">논문</a>, <a class=\"main_tab_btn\" data-col=\"pt\" data-type=\"all\" href=\"javascript:void(0);\">특허</a>, <a class=\"main_tab_btn\" data-col=\"rp\" data-type=\"all\" href=\"javascript:void(0);\">보고서</a>, <a class=\"main_tab_btn\" data-col=\"tr\" data-type=\"all\" href=\"javascript:void(0);\">동향</a>, <a class=\"main_tab_btn\" data-col=\"pp\" data-type=\"recomend\" href=\"javascript:void(0);\">추천논문</a>, <a class=\"main_tab_btn\" data-col=\"pt\" data-type=\"recomend\" href=\"javascript:void(0);\">추천특허</a>, <a class=\"main_tab_btn\" data-col=\"rp\" data-type=\"recomend\" href=\"javascript:void(0);\">추천보고서</a>, <a class=\"main_tab_btn\" data-col=\"tr\" data-type=\"recomend\" href=\"javascript:void(0);\">추천동향</a>, <a href=\"javascript:void(0);\" onclick=\"fncGoToDetail('DIKO0015014742' , '학위논문 all scholar' , this);\" title=\"화장품 개발을 위한 남천의 항염 및 항알레르기 효능 평가\">화장품 개발을 위한 남천의 항염 및 항알레르기 효능 평가</a>, <a href=\"javascript:void(0);\" onclick=\"fncGoToDetail('DIKO0015025596' , '학위논문 all scholar' , this);\" title=\"영아반 보육교사의 &lt;!HS&gt;미세먼지&lt;!HE&gt; 인식과 실내대체활동 실태조사\">영아반 보육교사의 <!--HS-->미세먼지<!--HE--> 인식과 실내대체활동 실태조사</a>, <a href=\"javascript:void(0);\" onclick=\"fncGoToDetail('DIKO0015013963' , '학위논문 all scholar' , this);\" title=\"&lt;!HS&gt;미세먼지&lt;!HE&gt;에 관한 유아교사의 인식과 대응 및 교육 실태\"><!--HS-->미세먼지<!--HE-->에 관한 유아교사의 인식과 대응 및 교육 실태</a>, <a href=\"javascript:void(0);\" onclick=\"fncGoToDetail('DIKO0015015880' , '학위논문 all scholar' , this);\" title=\"&lt;!HS&gt;미세먼지&lt;!HE&gt;의 결정요인에 관한 연구\"><!--HS-->미세먼지<!--HE-->의 결정요인에 관한 연구</a>, <a href=\"javascript:void(0);\" onclick=\"fncGoToDetail('DIKO0015015935' , '학위논문 all scholar' , this);\" title=\"빌딩에너지관리시스템(BEMS)을 위한 분산데이터 처리시스템 구현\">빌딩에너지관리시스템(BEMS)을 위한 분산데이터 처리시스템 구현</a>, <a href=\"javascript:void(0);\" onclick=\"fncGoToDetail('DIKO0015025483' , '학위논문 all scholar' , this);\" title=\"WRF-Chem과 WRF/CMAQ 모형의 &lt;!HS&gt;미세먼지&lt;!HE&gt; 모의 성능 비교\">WRF-Chem과 WRF/CMAQ 모형의 <!--HS-->미세먼지<!--HE--> 모의 성능 비교</a>, <a href=\"javascript:void(0);\" onclick=\"fncGoToDetail('DIKO0015025460' , '학위논문 all scholar' , this);\" title=\"GWR 모델을 활용한 &lt;!HS&gt;미세먼지&lt;!HE&gt;(PM10) 오염농도와 토지피복간의 상관성 평가 : 경기도 남부 지역을 중심으로\">GWR 모델을 활용한 <!--HS-->미세먼지<!--HE-->(PM10) 오염농도와 토지피복간의 상관성 평가 : 경기도 남부 지역을 중심으로</a>, <a href=\"javascript:void(0);\" onclick=\"fncGoToDetail('DIKO0015025492' , '학위논문 all scholar' , this);\" title=\"겨울철 한반도 PM10 농도의 경년 변동에 대한 북극 해빙의 영향\">겨울철 한반도 PM10 농도의 경년 변동에 대한 북극 해빙의 영향</a>, <a href=\"javascript:void(0);\" onclick=\"fncGoToDetail('DIKO0015070065' , '학위논문 all scholar' , this);\" title=\"고전압 공진형 컨버터의 설계와 플라즈마 전기집진기의 응용\">고전압 공진형 컨버터의 설계와 플라즈마 전기집진기의 응용</a>, <a href=\"javascript:void(0);\" onclick=\"fncGoToDetail('NART96373975' , '국내논문 all scholar' , this);\" title=\"An Automated Tracking System of Fine Dust Generating Spot for Building Dismantlement Sites\">An Automated Tracking System of Fine Dust Generating Spot for Building Dismantlement Sites</a>, <a href=\"javascript:void(0);\" onclick=\"fncGoToDetail('DIKO0014516178', '학위논문 all scholar' , this);\" title=\"&lt;!HS&gt;미세먼지&lt;!HE&gt; 자료동화 및 통합예보모형 개발연구\"><!--HS-->미세먼지<!--HE--> 자료동화 및 통합예보모형 개발연구</a>, <a href=\"javascript:void(0);\" onclick=\"fncGoToDetail('NPAP12898265', '국내논문 all scholar' , this);\" title=\"&lt;!HS&gt;미세먼지&lt;!HE&gt; 저감 및 관리에 관한 입법 및 정책적 검토\"><!--HS-->미세먼지<!--HE--> 저감 및 관리에 관한 입법 및 정책적 검토</a>, <a href=\"javascript:void(0);\" onclick=\"fncGoToDetail('JAKO201867551544620', '국내논문 all scholar' , this);\" title=\"&lt;!HS&gt;미세먼지&lt;!HE&gt; 해법의 올바른 방향 - &lt;!HS&gt;미세먼지&lt;!HE&gt; 대응, 새로운 방향 설정이 필요하다\"><!--HS-->미세먼지<!--HE--> 해법의 올바른 방향 - <!--HS-->미세먼지<!--HE--> 대응, 새로운 방향 설정이 필요하다</a>, <a href=\"javascript:void(0);\" onclick=\"fncGoToDetail('DIKO0014577260', '학위논문 all scholar' , this);\" title=\"&lt;!HS&gt;미세먼지&lt;!HE&gt; 위험지각과 마스크 착용 증진방안에 관한 연구\"><!--HS-->미세먼지<!--HE--> 위험지각과 마스크 착용 증진방안에 관한 연구</a>, <a href=\"javascript:void(0);\" onclick=\"fncGoToDetail('DIKO0013283745', '학위논문 all scholar' , this);\" title=\"&lt;!HS&gt;미세먼지&lt;!HE&gt; PM10 증가에 따른 사망률 변화에 대한 체계적 문헌고찰\"><!--HS-->미세먼지<!--HE--> PM10 증가에 따른 사망률 변화에 대한 체계적 문헌고찰</a>, <a href=\"javascript:void(0);\" onclick=\"fncGoToDetail('DIKO0014857846', '학위논문 all scholar' , this);\" title=\"&lt;!HS&gt;미세먼지&lt;!HE&gt; 위험에 대한 인식과 소셜미디어 의존이 &lt;!HS&gt;미세먼지&lt;!HE&gt;에 대한 대응행동에 미치는 영향\"><!--HS-->미세먼지<!--HE--> 위험에 대한 인식과 소셜미디어 의존이 <!--HS-->미세먼지<!--HE-->에 대한 대응행동에 미치는 영향</a>, <a href=\"javascript:void(0);\" onclick=\"fncGoToDetail('DIKO0014730313', '학위논문 all scholar' , this);\" title=\"&lt;!HS&gt;미세먼지&lt;!HE&gt; 관련 질병 데이터 모형 연구\"><!--HS-->미세먼지<!--HE--> 관련 질병 데이터 모형 연구</a>, <a href=\"javascript:void(0);\" onclick=\"fncGoToDetail('DIKO0014897285', '학위논문 all scholar' , this);\" title=\"&lt;!HS&gt;미세먼지&lt;!HE&gt; 농도에 따른 환경에서 운동이 심폐기능과 유산소운동능력에 미치는 영향\"><!--HS-->미세먼지<!--HE--> 농도에 따른 환경에서 운동이 심폐기능과 유산소운동능력에 미치는 영향</a>, <a href=\"javascript:void(0);\" onclick=\"fncGoToDetail('DIKO0013840163', '학위논문 all scholar' , this);\" title=\"&lt;!HS&gt;미세먼지&lt;!HE&gt; 중량측정법의 신뢰성 확보를 위한 정도 관리 및 불확도 최소화 방안 연구\"><!--HS-->미세먼지<!--HE--> 중량측정법의 신뢰성 확보를 위한 정도 관리 및 불확도 최소화 방안 연구</a>, <a href=\"javascript:void(0);\" onclick=\"fncGoToDetail('DIKO0014516178', '학위논문 all scholar' , this);\" title=\"&lt;!HS&gt;미세먼지&lt;!HE&gt; 자료동화 및 통합예보모형 개발연구\"><!--HS-->미세먼지<!--HE--> 자료동화 및 통합예보모형 개발연구</a>, <a class=\"set\" href=\"javascript:void(0);\" onclick=\"javascript:fncPopupOpen(this, 'registLayer'); return false;\">등록</a>, <a class=\"trend_tab_btn\" data-type=\"GTB\" href=\"javascript:void(0);\">과학기술동향</a>, <a class=\"txt\" href=\"javascript:void(0);\" onclick=\"javascript:moveMainDetail('GTB2019005439' , this);\" style=\"width: 100%;\">파킨슨병에서 혈액에 있는 면역 세포의 거동</a>, <a class=\"txt\" href=\"javascript:void(0);\" onclick=\"javascript:moveMainDetail('GTB2019005440' , this);\" style=\"width: 100%;\">심장병, 비만, 제2형 당뇨병 퇴치에 도움이 될 수 있는 효소 발견</a>, <a class=\"txt\" href=\"javascript:void(0);\" onclick=\"javascript:moveMainDetail('GTB2019005437' , this);\" style=\"width: 100%;\">자녀 비만과 연관된 임신 중 높은 납 농도</a>, <a class=\"txt\" href=\"javascript:void(0);\" onclick=\"javascript:moveMainDetail('GTB2019005438' , this);\" style=\"width: 100%;\">심부전과 비만의 역설</a>, <a class=\"txt\" href=\"javascript:void(0);\" onclick=\"javascript:moveMainDetail('GTB2019005434' , this);\" style=\"width: 100%;\">약물 혼합 치료로 초파리 생명 연장</a>, <a class=\"txt\" href=\"javascript:void(0);\" onclick=\"javascript:moveMainDetail('GTB2019005435' , this);\" style=\"width: 100%;\">몸무게 증가와 장내 세균을 연결하는 분자</a>, <a class=\"txt\" href=\"javascript:void(0);\" onclick=\"javascript:moveMainDetail('GTB2019005436' , this);\" style=\"width: 100%;\">영국 정부의 데이터 전략에 대한 비판</a>, <a class=\"txt\" href=\"javascript:void(0);\" onclick=\"javascript:moveMainDetail('GTB2019005429' , this);\" style=\"width: 100%;\">프랑스 연구팀, 머신러닝을 통한 자폐증 치료용 이모페이스(Emoface) 개발</a>, <a class=\"txt\" href=\"javascript:void(0);\" onclick=\"javascript:moveMainDetail('GTB2019005430' , this);\" style=\"width: 100%;\">프랑스국립과학연구원, 암진단용 바이오마커 탐지 기술 상용화 착수</a>, <a class=\"txt\" href=\"javascript:void(0);\" onclick=\"javascript:moveMainDetail('GTB2019005431' , this);\" style=\"width: 100%;\">바이오연료 생산을 위한 맞춤형 미생물을 개발한 미국</a>, <a class=\"txt\" href=\"javascript:void(0);\" onclick=\"javascript:moveMainDetail('GTB2019005432' , this);\" style=\"width: 100%;\">신재생에너지에 미화 20억불 이상을 투자하는 Google</a>, <a class=\"txt\" href=\"javascript:void(0);\" onclick=\"javascript:moveMainDetail('GTB2019005433' , this);\" style=\"width: 100%;\">전 원전에 대한 2번째 운영허가 갱신을 추진하는 미 Duke사</a>, <a class=\"txt\" href=\"javascript:void(0);\" onclick=\"javascript:moveMainDetail('GTB2019005419' , this);\" style=\"width: 100%;\">돼지 열병의 확산에 영향을 끼치는 중요한 요소들</a>, <a class=\"txt\" href=\"javascript:void(0);\" onclick=\"javascript:moveMainDetail('GTB2019005420' , this);\" style=\"width: 100%;\">인공지능과 기기학습이 접목된 인공 팔의 기술개발 동향</a>, <a class=\"txt\" href=\"javascript:void(0);\" onclick=\"javascript:moveMainDetail('GTB2019005421' , this);\" style=\"width: 100%;\">인공지능이 기업 및 조직에 미치는 영향은 어느 수준인가?</a>, <a class=\"txt\" href=\"javascript:void(0);\" onclick=\"javascript:moveMainDetail('GTB2019005422' , this);\" style=\"width: 100%;\">자동화된 무기로 인해 우발적인 차세대 세계대전 발발 위험성 경고</a>, <a class=\"txt\" href=\"javascript:void(0);\" onclick=\"javascript:moveMainDetail('GTB2019005423' , this);\" style=\"width: 100%;\">인공지능 사용에 따라 편향된 부작용의 발생을 우려하고 있는 영국 경찰</a>, <a class=\"txt\" href=\"javascript:void(0);\" onclick=\"javascript:moveMainDetail('GTB2019005424' , this);\" style=\"width: 100%;\">기술 대기업들의 인공지능을 개발이 세계를 위험에 빠뜨리고 있다</a>, <a class=\"txt\" href=\"javascript:void(0);\" onclick=\"javascript:moveMainDetail('GTB2019005425' , this);\" style=\"width: 100%;\">악성코드를 활용한 스마트TV 제조사들의 데이터 유출 실태</a>, <a class=\"txt\" href=\"javascript:void(0);\" onclick=\"javascript:moveMainDetail('GTB2019005426' , this);\" style=\"width: 100%;\">운송, 선적, 유틸리티를 대상으로 삼은 신종 악성코드 출현</a>, <a class=\"txt\" href=\"javascript:void(0);\" onclick=\"javascript:moveMainDetail('GTB2019005427' , this);\" style=\"width: 100%;\">옥스포드 연구진, 인공지능을 활용해 영장류 안면인식기술 개발에 성공</a>, <a class=\"txt\" href=\"javascript:void(0);\" onclick=\"javascript:moveMainDetail('GTB2019005428' , this);\" style=\"width: 100%;\">애견 비만에 대한 새로운 연구</a>, <a class=\"trend_tab_btn\" data-type=\"SCTM\" href=\"javascript:void(0);\">사이언스타임즈</a>, <a class=\"txt\" href=\"javascript:void(0);\" onclick=\"javascript:moveMainDetail('SCTM00198233' , this);\" style=\"width: 100%;\">석유 화학의 쌀 '에틸렌'의 재발견</a>, <a class=\"txt\" href=\"javascript:void(0);\" onclick=\"javascript:moveMainDetail('SCTM00198244' , this);\" style=\"width: 100%;\">“초연결 시대는 새로운 기회다”</a>, <a class=\"txt\" href=\"javascript:void(0);\" onclick=\"javascript:moveMainDetail('SCTM00198228' , this);\" style=\"width: 100%;\">세계가 주목할 비즈니스 트렌드는?</a>, <a class=\"txt\" href=\"javascript:void(0);\" onclick=\"javascript:moveMainDetail('SCTM00198258' , this);\" style=\"width: 100%;\">생체반응이 감정반응의 객관적 지표?</a>, <a class=\"txt\" href=\"javascript:void(0);\" onclick=\"javascript:moveMainDetail('SCTM00198275' , this);\" style=\"width: 100%;\">범죄수사용, 모발 분석 기법 개발</a>, <a class=\"txt\" href=\"javascript:void(0);\" onclick=\"javascript:moveMainDetail('SCTM00198211' , this);\" style=\"width: 100%;\">노화방지 의약품, 2년 내 실현되나?</a>, <a class=\"txt\" href=\"javascript:void(0);\" onclick=\"javascript:moveMainDetail('SCTM00198195' , this);\" style=\"width: 100%;\">과학자 1만 명, 기후변화 비상선언</a>, <a class=\"txt\" href=\"javascript:void(0);\" onclick=\"javascript:moveMainDetail('SCTM00198201' , this);\" style=\"width: 100%;\">조류도 유인원만큼 복잡한 사회 구성</a>, <a class=\"txt\" href=\"javascript:void(0);\" onclick=\"javascript:moveMainDetail('SCTM00198185' , this);\" style=\"width: 100%;\">탄소를 전혀 배출하지 않는 농장 구현</a>, <a class=\"txt\" href=\"javascript:void(0);\" onclick=\"javascript:moveMainDetail('SCTM00198162' , this);\" style=\"width: 100%;\">태양계 끝에서 무슨 일이?</a>, <a class=\"txt\" href=\"javascript:void(0);\" onclick=\"javascript:moveMainDetail('SCTM00198099' , this);\" style=\"width: 100%;\">소형 발사체 개발 열기 '후끈'</a>, <a class=\"txt\" href=\"javascript:void(0);\" onclick=\"javascript:moveMainDetail('SCTM00198131' , this);\" style=\"width: 100%;\">이달 중 계절관리제 세부 방안 공개</a>, <a class=\"txt\" href=\"javascript:void(0);\" onclick=\"javascript:moveMainDetail('SCTM00198148' , this);\" style=\"width: 100%;\">온실가스 먹는 미생물의 움직임 규명</a>, <a class=\"txt\" href=\"javascript:void(0);\" onclick=\"javascript:moveMainDetail('SCTM00198096' , this);\" style=\"width: 100%;\">최초의 시간여행 SF는 '마하바라타'</a>, <a class=\"txt\" href=\"javascript:void(0);\" onclick=\"javascript:moveMainDetail('SCTM00198038' , this);\" style=\"width: 100%;\">생각만으로 군용 드론을 조종한다?</a>, <a class=\"txt\" href=\"javascript:void(0);\" onclick=\"javascript:moveMainDetail('SCTM00198077' , this);\" style=\"width: 100%;\">환경문제 조기 대응 기술 개발 주력</a>, <a class=\"txt\" href=\"javascript:void(0);\" onclick=\"javascript:moveMainDetail('SCTM00198105' , this);\" style=\"width: 100%;\">육식 수각공룡 먹이 기반 넓었다</a>, <a class=\"txt\" href=\"javascript:void(0);\" onclick=\"javascript:moveMainDetail('SCTM00198083' , this);\" style=\"width: 100%;\">미래 과학‧수학 이끌 주인공 모였다</a>, <a class=\"txt\" href=\"javascript:void(0);\" onclick=\"javascript:moveMainDetail('SCTM00198116' , this);\" style=\"width: 100%;\">흡혈박쥐, 환경 바뀌어도 '우정' 유지</a>, <a class=\"txt\" href=\"javascript:void(0);\" onclick=\"javascript:moveMainDetail('SCTM00198059' , this);\" style=\"width: 100%;\">태양계 밖서 온 혜성…물 갖고 있어</a>, <a class=\"txt\" href=\"javascript:void(0);\" onclick=\"javascript:moveMainDetail('SCTM00198045' , this);\" style=\"width: 100%;\">3D 프린팅 제조 혁신 방안 논의</a>, <a class=\"txt\" href=\"javascript:void(0);\" onclick=\"javascript:moveMainDetail('SCTM00198046' , this);\" style=\"width: 100%;\">배아 발달의 '블랙박스' 열다</a>, <a class=\"trend_tab_btn\" data-type=\"ECMS\" href=\"javascript:void(0);\">과학향기</a>, <a class=\"link\" href=\"javascript:void(0);\" onclick=\"javascript:moveMainDetail('6043' , this);\">\n",
      "<div class=\"thum_box\">\n",
      "<img alt=\"코골이, 무서운 질환으로 이어질 수 있어\" onerror=\"this.src='/common/images/main/scon_img1.png'\" src=\"http://scent.ndsl.kr//uploadfile/ecms/media/2019/11/2d989e7fb80872bca7a74a2edc8ceae4.png\"/>\n",
      "<span class=\"box_border\"></span>\n",
      "</div>\n",
      "<div class=\"txt_box\">\n",
      "<p><strong>코골이, 무서운 질환으로 이어질 수 있어</strong>코골이는 피곤해서, 나이가 들어서 자연스레 생기는 신체 변화로, 단지 주변 사람을 괴롭게 하는 버릇으로 알고 있는 사람이 많다. 물론 대개는 그렇지만 코골이가 생명을 위협할 수도 있다.   코골이, 수면무호흡으로 이어진다   코를 고는 사람 중 다수가 수면무호흡 증상을 보인다. 원인이 코골이와 비슷하기 때문인데, 코골이가 기도가 좁아져서 나타나는 현상이라면 수면무호흡은 좁은 기도가 더 좁아지면서 숨길이 막혀 호흡이 일시적으로 멈추는 증상이다. 평균 10초 이상 숨을 쉬지 않는 무호흡이 시간당 5회 이상 또는 7시간 ...</p>\n",
      "</div>\n",
      "</a>, <a class=\"link_box\" href=\"javascript:void(0);\" onclick=\"javascript:moveMainDetail('6040' , this);\" style=\"width: 100%;\" title=\"전자담배 주의보, 폐질환 환자가 늘어간다\">전자담배 주의보, 폐질환 환자가 늘어간다</a>, <a class=\"link_box\" href=\"javascript:void(0);\" onclick=\"javascript:moveMainDetail('6037' , this);\" style=\"width: 100%;\" title=\"늦잠 자는 이유, 의지만의 문제가 아니야\">늦잠 자는 이유, 의지만의 문제가 아니야</a>, <a class=\"link_box\" href=\"javascript:void(0);\" onclick=\"javascript:moveMainDetail('6034' , this);\" style=\"width: 100%;\" title=\"일본의 원전 오염수 해양 유출, 괜찮은 걸까?\">일본의 원전 오염수 해양 유출, 괜찮은 걸까?</a>, <a class=\"link_box\" href=\"javascript:void(0);\" onclick=\"javascript:moveMainDetail('6030' , this);\" style=\"width: 100%;\" title=\"지문은 도대체 왜 생겼을까?\">지문은 도대체 왜 생겼을까?</a>, <a class=\"link_box\" href=\"javascript:void(0);\" onclick=\"javascript:moveMainDetail('6027' , this);\" style=\"width: 100%;\" title=\"나노기술의 상용화를 글로벌 나노 축제, 나노 테크 재팬(1)\">나노기술의 상용화를 글로벌 나노 축제, 나노 테크 재팬(1)</a>, <a class=\"link_box\" href=\"javascript:void(0);\" onclick=\"javascript:moveMainDetail('6024' , this);\" style=\"width: 100%;\" title=\"급속냉동식품은 어떻게 탄생했을까?\">급속냉동식품은 어떻게 탄생했을까?</a>, <a class=\"link_box\" href=\"javascript:void(0);\" onclick=\"javascript:moveMainDetail('6021' , this);\" style=\"width: 100%;\" title=\"[데이터 과학-2] 인공지능에게 필요한 데이터는 특별하다!\">[데이터 과학-2] 인공지능에게 필요한 데이터는 특별하다!</a>, <a class=\"link_box\" href=\"javascript:void(0);\" onclick=\"javascript:moveMainDetail('6018' , this);\" style=\"width: 100%;\" title=\"소중한 지구, 해양 쓰레기로 몸살을 앓고 있다\">소중한 지구, 해양 쓰레기로 몸살을 앓고 있다</a>, <a class=\"link_box\" href=\"javascript:void(0);\" onclick=\"javascript:moveMainDetail('6015' , this);\" style=\"width: 100%;\" title=\"폐사율 100%, 아프리카돼지열병의 모든 것\">폐사율 100%, 아프리카돼지열병의 모든 것</a>, <a class=\"link_box\" href=\"javascript:void(0);\" onclick=\"javascript:moveMainDetail('6010' , this);\" style=\"width: 100%;\" title=\"인삼보다 좋다는 가을무의 영양 과학\">인삼보다 좋다는 가을무의 영양 과학</a>, <a class=\"link_box\" href=\"javascript:void(0);\" onclick=\"javascript:moveMainDetail('6009' , this);\" style=\"width: 100%;\" title=\"현실과 소통하는 가상 세계, 디지털 트윈이 뜬다!\">현실과 소통하는 가상 세계, 디지털 트윈이 뜬다!</a>, <a class=\"link_box\" href=\"javascript:void(0);\" onclick=\"javascript:moveMainDetail('6006' , this);\" style=\"width: 100%;\" title=\"소금의 두 얼굴\">소금의 두 얼굴</a>, <a class=\"trend_tab_btn\" data-type=\"ITREND\" href=\"javascript:void(0);\">아이콘</a>, <a class=\"txt\" href=\"javascript:void(0);\" onclick=\"javascript:moveMainDetail('IWT201911001', this);\" style=\"width: 100%;\">WHO, 국제연합기구 중 처음으로 cOAlition S 참여</a>, <a class=\"txt\" href=\"javascript:void(0);\" onclick=\"javascript:moveMainDetail('IWT201910011', this);\" style=\"width: 100%;\">스웨덴왕립도서관(NLS), 오픈액세스에 대한 교육용 동영상 공개</a>, <a class=\"txt\" href=\"javascript:void(0);\" onclick=\"javascript:moveMainDetail('IWT201910009', this);\" style=\"width: 100%;\">SPARC, 2018-2019 교육자료공개(OER) 현황보고서 공개</a>, <a class=\"txt\" href=\"javascript:void(0);\" onclick=\"javascript:moveMainDetail('IWT201910010', this);\" style=\"width: 100%;\">일본 NAIST 도서관, 오픈액세스 정책 발표</a>, <a class=\"txt\" href=\"javascript:void(0);\" onclick=\"javascript:moveMainDetail('IWT201910008', this);\" style=\"width: 100%;\">DEAL 프로젝트와 Springer Nature, OA 계약에 관한 MoU 체결</a>, <a class=\"txt\" href=\"javascript:void(0);\" onclick=\"javascript:moveMainDetail('IWT201910004', this);\" style=\"width: 100%;\">COS, 교육학 분야의 프리프린트 서비스 `EdArXiv`를 공개</a>, <a class=\"txt\" href=\"javascript:void(0);\" onclick=\"javascript:moveMainDetail('IWT201910006', this);\" style=\"width: 100%;\">OA 구축에 대한 요구사항과 원칙을 정리한 백서</a>, <a class=\"txt\" href=\"javascript:void(0);\" onclick=\"javascript:moveMainDetail('IWT201910007', this);\" style=\"width: 100%;\">OA 출판 서비스 및 비용의 투명성 제고를 위한 프레임 워크 구축</a>, <a class=\"txt\" href=\"javascript:void(0);\" onclick=\"javascript:moveMainDetail('IWT201910002', this);\" style=\"width: 100%;\">Wiley, 미국 버지니아 연구도서관 컨소시엄과 OA 출판에 관한 계약 체결</a>, <a class=\"txt\" href=\"javascript:void(0);\" onclick=\"javascript:moveMainDetail('IWT201910001', this);\" style=\"width: 100%;\">NARCIS에 공개된 OA 출판물, 70만건 돌파</a>, <a class=\"txt\" href=\"javascript:void(0);\" onclick=\"javascript:moveMainDetail('IWT201909005', this);\" style=\"width: 100%;\">세계 리포지터리 순위 공개(2019년 7월 기준)</a>, <a class=\"txt\" href=\"javascript:void(0);\" onclick=\"javascript:moveMainDetail('IWT201909003', this);\" style=\"width: 100%;\">홋카이도 대학교 도서관, 오픈액세스 정책 발표</a>, <a class=\"txt\" href=\"javascript:void(0);\" onclick=\"javascript:moveMainDetail('IWT201909002', this);\" style=\"width: 100%;\">NIH, figshare와 제휴하여 데이터 리포지터리 `NIH Figshare` 런칭</a>, <a class=\"txt\" href=\"javascript:void(0);\" onclick=\"javascript:moveMainDetail('IWT201909001', this);\" style=\"width: 100%;\">2019 국제 오픈액세스 주간 테마 : `Open for Whom? Equity in Open Knowledge`</a>, <a class=\"txt\" href=\"javascript:void(0);\" onclick=\"javascript:moveMainDetail('IWT201908021', this);\" style=\"width: 100%;\">Taylor &amp; Francis, SDGs Online 플랫폼 공개</a>, <a class=\"txt\" href=\"javascript:void(0);\" onclick=\"javascript:moveMainDetail('IWT201908022', this);\" style=\"width: 100%;\">오스트리아, ORCID 컨소시엄 설립</a>, <a class=\"txt\" href=\"javascript:void(0);\" onclick=\"javascript:moveMainDetail('IWT201908023', this);\" style=\"width: 100%;\">Digital Science사, 영국 연구기관의 OA에 영향을 주는 요인 발표</a>, <a class=\"txt\" href=\"javascript:void(0);\" onclick=\"javascript:moveMainDetail('IWT201908019', this);\" style=\"width: 100%;\">RDA와 COAR, 연구 데이터 관리의 국제적인 발전을 위한 협력 발표</a>, <a class=\"txt\" href=\"javascript:void(0);\" onclick=\"javascript:moveMainDetail('IWT201908020', this);\" style=\"width: 100%;\">케임브리지대학출판사(CUP), 오픈리서치 플랫폼 `Cambridge Open Engage` 발표</a>, <a class=\"txt\" href=\"javascript:void(0);\" onclick=\"javascript:moveMainDetail('IWT201908018', this);\" style=\"width: 100%;\">오픈액세스와 Plan S에 대한 학회의 대응 및 비즈니스 모델</a>, <a class=\"txt\" href=\"javascript:void(0);\" onclick=\"javascript:moveMainDetail('IWT201908015', this);\" style=\"width: 100%;\">cOAlition S, Plan S 실현을 위한  9가지 우선 순위 공개</a>, <a class=\"txt\" href=\"javascript:void(0);\" onclick=\"javascript:moveMainDetail('IWT201908017', this);\" style=\"width: 100%;\">arXiv, 개정된 Plan S 준수를 위한 기술적 검토사항 공표</a>, <a class=\"btn_more\" href=\"javascript:void(0);\" onclick=\"fnTrendMore();\">더보기</a>, <a href=\"/ndsl/member/mberuseeStplat.do;jsessionid=SqwBwdbW1jgwFAi1kRXnBOiSp5g82L5lE88FlO4EfH5oJqwpynVBuIdVTMT3v6tp.al228_servlet_engine11\" title=\"회원가입\"><span class=\"ico_m1\"></span>회원가입</a>, <a href=\"javascript:void(0);\" onclick=\"fncIdpwSearchModal(this); return false;\" title=\"아이디/비밀번호 찾기\"><span class=\"ico_m2\"></span>아이디/비밀번호 찾기</a>, <a href=\"http://www.ntis.go.kr/issuernd/main/issueDtl.do?searchTopicNo=201911040001\" style=\"margin-top:10px;\" target=\"_blank\">그래핀</a>, <a href=\"http://www.ntis.go.kr/issuernd/main/issueDtl.do?searchTopicNo=201910290001\" target=\"_blank\">자율주행버스</a>, <a href=\"http://www.ntis.go.kr/issuernd/main/issueDtl.do?searchTopicNo=201910240001\" target=\"_blank\">인공<br>장기</br></a>, <a href=\"http://www.ntis.go.kr/issuernd/main/issueDtl.do?searchTopicNo=201911060001\" target=\"_blank\">대장암<br/>세포</a>, <a href=\"http://www.ntis.go.kr/issuernd/main/issueDtl.do?searchTopicNo=201910310001\" target=\"_blank\">방사성<br/>폐기물</a>, <a class=\"btn_more\" href=\"http://www.ntis.go.kr/issuernd/main/issueMain.do\" target=\"_blank\">더보기</a>, <a class=\"txt\" href=\"/ndsl/notice/noticeDetail.do;jsessionid=SqwBwdbW1jgwFAi1kRXnBOiSp5g82L5lE88FlO4EfH5oJqwpynVBuIdVTMT3v6tp.al228_servlet_engine11?seq=7818\">[제6회 Korea Data-Biz Trend] 더 나은 교육 혁신, 데이터로 답하다</a>, <a class=\"txt\" href=\"/ndsl/notice/noticeDetail.do;jsessionid=SqwBwdbW1jgwFAi1kRXnBOiSp5g82L5lE88FlO4EfH5oJqwpynVBuIdVTMT3v6tp.al228_servlet_engine11?seq=7778\">한국과학기술정보연구원 개원기념일(5월 20일) 휴무 안내</a>, <a class=\"txt\" href=\"/ndsl/notice/noticeDetail.do;jsessionid=SqwBwdbW1jgwFAi1kRXnBOiSp5g82L5lE88FlO4EfH5oJqwpynVBuIdVTMT3v6tp.al228_servlet_engine11?seq=7758\">2019년 중소기업 RnD기획 지원사업(1차)</a>, <a class=\"txt\" href=\"/ndsl/notice/noticeDetail.do;jsessionid=SqwBwdbW1jgwFAi1kRXnBOiSp5g82L5lE88FlO4EfH5oJqwpynVBuIdVTMT3v6tp.al228_servlet_engine11?seq=7738\">2019년 과편협 학술대회 안내</a>, <a class=\"txt\" href=\"/ndsl/notice/noticeDetail.do;jsessionid=SqwBwdbW1jgwFAi1kRXnBOiSp5g82L5lE88FlO4EfH5oJqwpynVBuIdVTMT3v6tp.al228_servlet_engine11?seq=7718\">중국 학술논문 베타서비스 오픈안내</a>, <a class=\"btn_more\" href=\"/ndsl/notice/noticeList.do\">더보기</a>, <a class=\"link lft\" href=\"/ndsl/about/intrcn/ndslIntrcn.do\">\n",
      "<img alt=\"about NDSL - 과학기술정보 서비스 플랫폼\" src=\"../../common/images/main/link_aboutndsl.png\"/>\n",
      "<span class=\"box_border\"></span>\n",
      "</a>, <a class=\"link rgt\" href=\"http://nos.ndsl.kr/\">\n",
      "<img alt=\"NOS NDSL Open Service - 과학기술분야 개방형 유통 플랫폼\" src=\"../../common/images/main/link_nos.png\"/>\n",
      "<span class=\"box_border\"></span>\n",
      "</a>, <a href=\"/ndsl/cs/csvoice/cstmrSoundMainim.do\">\n",
      "<div class=\"help_box\">\n",
      "<h2><img alt=\"NDSL고객센터(ARS)\" src=\"../../common/images/main/h2_help.png\"/></h2>\n",
      "<p class=\"txt_call\">[무료]  080-969-4114   [유료]  02-969-4114</p>\n",
      "<p class=\"txt\">운영시간 09:00 ~ 18:00  (토요일/공휴일 휴무)</p>\n",
      "<span class=\"box_border\"></span>\n",
      "</div>\n",
      "</a>, <a class=\"link_box\" href=\"javascript:void(0);\" onclick=\"javascript:fncPinLogInsert('P23', this, 'F', 'fncCurationAccount(\\'\\')'); return false;\">\n",
      "<div class=\"title_box\">\n",
      "<span class=\"ico\"></span>\n",
      "<h2 class=\"con_tit\" style=\"letter-spacing:-1px;\">PIN 서비스 바로가기</h2>\n",
      "</div>\n",
      "</a>, <a href=\"/ndsl/about/contents/article/dmstcarticleintrcn.do\"><span class=\"tit\">논문</span><span class=\"count\"><strong>96,986,377</strong>건</span></a>, <a href=\"/ndsl/about/contents/patent/patentintrcn.do\"><span class=\"tit\">특허</span><span class=\"count\"><strong>38,402,416</strong>건</span></a>, <a href=\"/ndsl/about/contents/report/reportintrcn.do\"><span class=\"tit\">보고서</span><span class=\"count\"><strong>325,865</strong>건</span></a>, <a href=\"/ndsl/about/contents/trend/trendintrcn.do\"><span class=\"tit\">동향</span><span class=\"count\"><strong>53,208</strong>건</span></a>, <a href=\"/ndsl/about/contents/journal/jrnlintrcn.do\"><span class=\"tit\">저널/프로시딩</span><span class=\"count\"><strong>388,052</strong>건</span></a>, <a href=\"/ndsl/about/contents/rsrch/rsrchmanintrcn.do\"><span class=\"tit\">연구자</span><span class=\"count\"><strong>1,132,376</strong>건</span></a>, <a href=\"/ndsl/about/contents/rrcs/rrcsintrcn.do\"><span class=\"tit\">연구기관</span><span class=\"count\"><strong>78,303</strong>건</span></a>, <a href=\"http://www.kisti.re.kr/\" target=\"_blank\" title=\"kisti한국과학기술정보연구원\">kisti</a>, <a href=\"javascript:void(0);\" onclick=\"fncUseModalOpen();return false;\" title=\"이용약관\">이용약관</a>, <a href=\"javascript:void(0);\" onclick=\"fncIndvInfoModalOpen('2_5');return false;\" title=\"개인정보처리방침\"><strong>개인정보처리방침</strong></a>, <a href=\"http://www.kisti.re.kr/intro/directions/pageView/20\" target=\"_blank\">찾아오시는길</a>, <a href=\"javascript:void(0);\" onclick=\"fncEmailModalOpen();\" title=\"이메일무단수집거부\">이메일무단수집거부</a>, <a href=\"http://www.kisti.re.kr/intro/introduce/pageView/14\" target=\"_blank\">기관소개</a>, <a href=\"http://icon.ndsl.kr/\" target=\"_blank\" title=\"정보 서비스 동향지식포털\">정보 서비스 동향지식포털</a>, <a href=\"http://nos.ndsl.kr/\" target=\"_blank\" title=\"NOS\">NDSL 오픈서비스</a>, <a href=\"http://www.koreascience.or.kr/\" target=\"_blank\" title=\"koreascience\">koreascience</a>, <a href=\"http://society.kisti.re.kr/\" target=\"_blank\" title=\"koreascience\">과학기술학회마을</a>, <a href=\"http://mirian.kisti.re.kr/\" target=\"_blank\" title=\"Mirian\">Mirian</a>, <a href=\"http://www.kesli.or.kr/\" target=\"_blank\" title=\"KESLI\">KESLI</a>, <a href=\"http://kpubs.org/\" target=\"_blank\" title=\"kpubs\">KPUBS</a>, <a href=\"http://www.reseat.re.kr/\" target=\"_blank\" title=\"ReSeat\">ReSeat</a>, <a href=\"http://www.nktech.net/\" target=\"_blank\" title=\"NK테크\">NK테크</a>, <a href=\"http://www.kosen21.org/\" target=\"_blank\" title=\"KOSEN\">KOSEN</a>, <a href=\"http://astinet.kr/\" target=\"_blank\" title=\"ASTI\">ASTI</a>, <a href=\"http://ntis.go.kr/\" target=\"_blank\" title=\"국가과학기술지식정보서비스\">국가과학기술지식정보서비스</a>, <a href=\"http://www.creativekorea.or.kr/\" target=\"_blank\" title=\"창조경제타운\">창조경제타운</a>, <a href=\"http://portal.koreascience.or.kr/index.jsp\" target=\"_blank\" title=\"KSP\">KSP</a>, <a href=\"http://www.msip.go.kr/\" target=\"_blank\" title=\"과학기술정보통신부\">과학기술정보통신부</a>, <a href=\"http://www.nl.go.kr/\" target=\"_blank\" title=\"국립중앙도서관\">국립중앙도서관</a>, <a href=\"http://www.nanet.go.kr/\" target=\"_blank\" title=\"국회도서관\">국회도서관</a>, <a href=\"http://www.kofac.re.kr/\" target=\"_blank\" title=\"한국과학창의재단\">한국과학창의재단</a>, <a href=\"http://www.riss.kr/\" target=\"_blank\" title=\"RISS한국교육학술연구원\">RISS한국교육학술연구원</a>, <a href=\"http://www.kdb.or.kr/\" target=\"_blank\" title=\"한국데이터베이스진흥원\">한국데이터베이스진흥원</a>, <a href=\"http://www.nia.or.kr/\" target=\"_blank\" title=\"NIA\">한국정보문화진흥원</a>, <a href=\"http://www.bl.uk/\" target=\"_blank\" title=\"BL\">BL</a>, <a href=\"http://cat.cisti.nrc.ca/\" target=\"_blank\" title=\"CISTI\">CISTI</a>, <a href=\"http://www.nrf.re.kr/\" target=\"_blank\" title=\"한국연구재단\">한국연구재단</a>, <a href=\"http://www.icsti.org/\" target=\"_blank\" title=\"ICSTI\">ICSTI</a>, <a href=\"http://www.istic.ac.cn/\" target=\"_blank\" title=\"ISTIC\">ISTIC</a>, <a href=\"http://www.inist.fr/\" target=\"_blank\" title=\"INIST\">INIST</a>, <a href=\"http://www.jst.go.jp\" target=\"_blank\" title=\"JST\">JST</a>, <a href=\"http://las.ac.cn/\" target=\"_blank\" title=\"LCAS\">LCAS</a>, <a href=\"http://www.narcis.info\" target=\"_blank\" title=\"NARCIS\">NARCIS</a>, <a href=\"http://www.nii.ac.jp\" target=\"_blank\" title=\"NII\">NII</a>, <a href=\"http://www.oclc.org\" target=\"_blank\" title=\"OCLC\">OCLC</a>, <a href=\"/common/images/common/ISO10002.jpg\" target=\"_blank\"><img alt=\"ISO 10002\" src=\"/common/images/common/fot_mark1_ty2.png\"><span>ISO 10002</span></img></a>, <a href=\"https://www.dqc.or.kr/quality_certification/administrative/standard/\" target=\"_blank\"><img alt=\"데이터관리인증\" src=\"/common/images/common/fot_mark4_ty2.png\"><span>데이터관리인증</span></img></a>, <a href=\"javascript:void(0);\">모바일보기</a>, <a href=\"/ndsl/member/mberuseeStplat.do;jsessionid=SqwBwdbW1jgwFAi1kRXnBOiSp5g82L5lE88FlO4EfH5oJqwpynVBuIdVTMT3v6tp.al228_servlet_engine11\" title=\"회원가입\">회원가입</a>, <a href=\"javascript:void(0);\" onclick=\"fncIdpwSearchModal(this); return false;\" title=\"ID/PW 찾기\">ID/PW 찾기</a>, <a href=\"/ndsl/myndsl/passchk.do;jsessionid=SqwBwdbW1jgwFAi1kRXnBOiSp5g82L5lE88FlO4EfH5oJqwpynVBuIdVTMT3v6tp.al228_servlet_engine11\" title=\"회원정보관리\">회원정보관리</a>, <a href=\"/ndsl/myndsl/mnDdsList.do;jsessionid=SqwBwdbW1jgwFAi1kRXnBOiSp5g82L5lE88FlO4EfH5oJqwpynVBuIdVTMT3v6tp.al228_servlet_engine11\" title=\"원문신청정보\">원문신청 정보</a>, <a href=\"/ndsl/myndsl/bkmk/interstKeywordList.do;jsessionid=SqwBwdbW1jgwFAi1kRXnBOiSp5g82L5lE88FlO4EfH5oJqwpynVBuIdVTMT3v6tp.al228_servlet_engine11\" title=\"관심사항관리\">관심사항 관리</a>, <a href=\"/ndsl/myndsl/mnBasket.do;jsessionid=SqwBwdbW1jgwFAi1kRXnBOiSp5g82L5lE88FlO4EfH5oJqwpynVBuIdVTMT3v6tp.al228_servlet_engine11\" title=\"장바구니\">장바구니 (<span style=\"font-weight: 600; color: #0059b0;\">건</span>) </a>, <a href=\"javascript:void(0);\" onclick=\"fncSelect(this,'');return false;\">전체</a>, <a href=\"javascript:void(0);\" id=\"t_scholar\" onclick=\"fncSelect(this,'scholar');return false;\">논문</a>, <a href=\"javascript:void(0);\" id=\"t_patent\" onclick=\"fncSelect(this,'patent');return false;\">특허</a>, <a href=\"javascript:void(0);\" id=\"t_report\" onclick=\"fncSelect(this,'report');return false;\">보고서</a>, <a href=\"javascript:void(0);\" id=\"t_radar\" onclick=\"fncSelect(this,'radar');return false;\">동향</a>, <a href=\"javascript:void(0);\" id=\"t_journal\" onclick=\"fncSelect(this,'journal');return false;\">저널/프로시딩</a>, <a href=\"javascript:void(0);\" id=\"t_author\" onclick=\"fncSelect(this,'author');return false;\">연구자</a>, <a href=\"javascript:void(0);\" id=\"t_organ\" onclick=\"fncSelect(this,'organ');return false;\">연구기관</a>, <a href=\"javascript:void(0);\" onclick=\"javascript:fncCurationAccount(''); return false;\" title=\"PIN(Profiling service In NDSL) 서비스 \"><span class=\"ico_ndsl ico_tmenu12 ico_new\"></span>PIN 서비스</a>, <a href=\"/ndsl/about/intrcn/ndslIntrcn.do;jsessionid=SqwBwdbW1jgwFAi1kRXnBOiSp5g82L5lE88FlO4EfH5oJqwpynVBuIdVTMT3v6tp.al228_servlet_engine11\" title=\"about\"><span class=\"ico_ndsl ico_tmenu2\"></span>About</a>, <a href=\"/ndsl/main/siteMap.do;jsessionid=SqwBwdbW1jgwFAi1kRXnBOiSp5g82L5lE88FlO4EfH5oJqwpynVBuIdVTMT3v6tp.al228_servlet_engine11\" title=\"사이트맵\"><span class=\"ico_ndsl ico_tmenu3\"></span>사이트맵</a>, <a href=\"/ndsl/cs/csvoice/cstmrSoundMainim.do;jsessionid=SqwBwdbW1jgwFAi1kRXnBOiSp5g82L5lE88FlO4EfH5oJqwpynVBuIdVTMT3v6tp.al228_servlet_engine11\" title=\"고객센터\"><span class=\"ico_ndsl ico_tmenu4\"></span>고객센터</a>, <a href=\"/ndsl/notice/noticeList.do;jsessionid=SqwBwdbW1jgwFAi1kRXnBOiSp5g82L5lE88FlO4EfH5oJqwpynVBuIdVTMT3v6tp.al228_servlet_engine11\" title=\"공지사항\"><span class=\"ico_ndsl ico_tmenu5\"></span>공지사항</a>, <a href=\"/ndsl/issueNdsl/issueNdslList.do;jsessionid=SqwBwdbW1jgwFAi1kRXnBOiSp5g82L5lE88FlO4EfH5oJqwpynVBuIdVTMT3v6tp.al228_servlet_engine11\" title=\"이슈&amp;NDSL\"><span class=\"ico_ndsl ico_tmenu6\"></span>이슈&amp;NDSL</a>, <a href=\"http://scent.ndsl.kr\" target=\"_blank\" title=\"과학향기\"><span class=\"ico_ndsl ico_tmenu7\"></span>과학향기</a>, <a href=\"http://icon.ndsl.kr\" target=\"_blank\" title=\"iCON\"><span class=\"ico_ndsl ico_tmenu9\"></span>iCON</a>, <a href=\"javascript:void(0);\" onclick=\"fncDBStatusOpen(); return false;\" title=\"DB현황\"><span class=\"ico_ndsl ico_tmenu8\"></span>DB현황</a>, <a href=\"javascript:void(0);\" onclick=\"fncGoKardUrl(); return false;\" title=\"성과물관리\"><span class=\"ico_ndsl ico_tmenu11 ico_new\"></span>내 성과물관리</a>, <a class=\"bx-pager-link\" data-slide-index=\"0\" href=\"javascript:void(0);\">추천콘텐츠</a>, <a class=\"bx-pager-link\" data-slide-index=\"1\" href=\"javascript:void(0);\">이용현황 및 접속이력</a>, <a class=\"bx-pager-link\" data-slide-index=\"2\" href=\"javascript:void(0);\">히스토리</a>, <a class=\"bx-pager-link\" data-slide-index=\"3\" href=\"javascript:void(0);\">관심키워드</a>, <a class=\"bx-pager-link\" data-slide-index=\"4\" href=\"javascript:void(0);\">서비스 페이지</a>, <a data-slide-index=\"0\" href=\"javascript:void(0);\">추천콘텐츠<span class=\"ico_arr\"></span></a>, <a data-slide-index=\"1\" href=\"javascript:void(0);\">이용현황 및 접속이력<span class=\"ico_arr\"></span></a>, <a data-slide-index=\"2\" href=\"javascript:void(0);\">히스토리<span class=\"ico_arr\"></span></a>, <a data-slide-index=\"3\" href=\"javascript:void(0);\">관심키워드<span class=\"ico_arr\"></span></a>, <a data-slide-index=\"4\" href=\"javascript:void(0);\">서비스 페이지<span class=\"ico_arr\"></span></a>, <a class=\"alink\" href=\"https://scienceon.kisti.re.kr\" style=\"text-decoration: underline; color: dodgerblue; font-weight: 500; font-size: 13px;\" target=\"_blank\">ScienceON 알아보기</a>, <a href=\"https://scienceon.kisti.re.kr/main/personInfo.do\" target=\"_blank\"><span style=\"color: #003879; font-weight: bold\">ㆍ Science<span style=\"color:red\">ON</span></span> 개인정보처리방침(새창 열림)</a>, <a href=\"https://scienceon.kisti.re.kr/main/useInfo.do\" target=\"_blank\"><span style=\"color: #003879; font-weight: bold\">ㆍ Science<span style=\"color:red\">ON</span></span> 약관보기(새창 열림)</a>, <a class=\"abtn\" id=\"btnScienceJoin\" onclick=\"fncSciJoin('new');\" style=\"display: inline-block; margin: 10px; padding: 5px 30px; border: 2px solid red; border-radius: 3px; font-size: 16px; font-weight: 500; color: #fff; background: red; box-shadow: 0 2px 1px rgba(0, 0, 0, .4); cursor: pointer;\">회원가입</a>, <a class=\"alink\" href=\"https://scienceon.kisti.re.kr\" style=\"text-decoration: underline; color: dodgerblue; font-weight: 500; font-size: 13px;\" target=\"_blank\">ScienceON 알아보기</a>, <a class=\"abtn\" onclick=\"fncSciJoin('link');\" style=\"display: inline-block; margin: 10px; padding: 5px 30px; border: 2px solid red; border-radius: 3px; font-size: 16px; font-weight: 500; color: #fff; background: red; box-shadow: 0 2px 1px rgba(0, 0, 0, .4); cursor: pointer;\">확인</a>]\n"
     ]
    }
   ],
   "source": [
    "### [<a class=\"sister\" href=\"http://example.com/elsie\" id=\"link1\">Elsie</a>,\n",
    "###  <a class=\"sister\" href=\"http://example.com/lacie\" id=\"link2\">Lacie</a>,\n",
    "###  <a class=\"sister\" href=\"http://example.com/tillie\" id=\"link3\">Tillie</a>]\n",
    "print(soup.find_all('a'))"
   ]
  },
  {
   "cell_type": "code",
   "execution_count": 28,
   "metadata": {},
   "outputs": [
    {
     "name": "stdout",
     "output_type": "stream",
     "text": [
      "None\n"
     ]
    }
   ],
   "source": [
    "### <a class=\"sister\" href=\"http://example.com/tillie\" id=\"link3\">Tillie</a>\n",
    "print(soup.find(id=\"link3\"))"
   ]
  },
  {
   "cell_type": "code",
   "execution_count": 26,
   "metadata": {},
   "outputs": [],
   "source": [
    "#for link in soup.find_all('a'):\n",
    "    #print(link.get('href'))"
   ]
  },
  {
   "cell_type": "code",
   "execution_count": 25,
   "metadata": {},
   "outputs": [],
   "source": [
    "#print(soup.get_text())"
   ]
  },
  {
   "cell_type": "code",
   "execution_count": 6,
   "metadata": {},
   "outputs": [
    {
     "data": {
      "text/plain": [
       "[<link href=\"/core/jig/1.14.8/css/jig.min.css\" rel=\"stylesheet\"/>,\n",
       " <link href=\"https://www.ncbi.nlm.nih.gov/pmc/articles/PMC5762458/\" rel=\"canonical\"/>,\n",
       " <link href=\"http://purl.org/DC/elements/1.0/\" rel=\"schema.DC\"/>,\n",
       " <link href=\"/corehtml/pmc/css/3.14.1/pmc.min.css\" rel=\"stylesheet\" type=\"text/css\"/>,\n",
       " <link href=\"/corehtml/pmc/css/3.14.1/pmc_extras_prnt.min.css\" media=\"print\" rel=\"stylesheet\" type=\"text/css\"/>,\n",
       " <link href=\"https://www.ncbi.nlm.nih.gov/corehtml/pmc/ctxp/citationexporter.css\" rel=\"stylesheet\" type=\"text/css\"/>,\n",
       " <link href=\"/pmc/articles/PMC5762458/epub/\" rel=\"alternate\" type=\"application/epub+zip\"/>,\n",
       " <link href=\"/pmc/articles/PMC5762458/pdf/ad-30-1.pdf\" rel=\"alternate\" type=\"application/pdf\"/>,\n",
       " <link href=\"//www.ncbi.nlm.nih.gov/favicon.ico\" rel=\"shortcut icon\"/>,\n",
       " <link href=\"//static.pubmed.gov/portal/portal3rc.fcgi/4160049/css/3852956/3985586/3808861/4121862/3974050/3917732/251717/4048120/3846471/14534/45193/4113719/3849091/3984811/3751656/4033350/3840896/3577051/3852958/3881636/3579733/4062871/12930/3964959/3855473/4047625/3854974/3854955/4076335/4128070/9685/3549676/3609192/3609193/3609213/3395586/4143404.css\" rel=\"stylesheet\" type=\"text/css\"/>,\n",
       " <link href=\"//static.pubmed.gov/portal/portal3rc.fcgi/4160049/css/3411343/3882866/4157116.css\" media=\"print\" rel=\"stylesheet\" type=\"text/css\"/>,\n",
       " <a href=\"/guide/browsers/#enablejs\" target=\"_blank\" title=\"Learn how to enable JavaScript\">more...</a>,\n",
       " <a accesskey=\"1\" class=\"ui-ncbimenu-link-first\" href=\"/\" id=\"ncbihome\" role=\"banner\" title=\"NCBI Home\"><span class=\"offscreen_noflow\">NCBI</span><img alt=\"NCBI Logo\" class=\"ncbi_logo\" src=\"//static.pubmed.gov/portal/portal3rc.fcgi/4160049/img/28977\" title=\"NCBI\"/></a>,\n",
       " <a accesskey=\"3\" href=\"#maincontent\" tabindex=\"0\" title=\"Skip to the content\">Skip to main\n",
       "                         content</a>,\n",
       " <a accesskey=\"4\" href=\"#navcontent\" tabindex=\"0\" title=\"Skip to the navigation\">Skip to\n",
       "                         navigation</a>,\n",
       " <a class=\"ui-ncbimenu-first-link-has-submenu ui-ncbimenu-link-first topanchor expandDown\" href=\"/static/header_footer_ajax/submenu/#resources\">Resources</a>,\n",
       " <a class=\"ui-ncbimenu-first-link-has-submenu ui-ncbimenu-link-first topanchor expandDown\" href=\"/static/header_footer_ajax/submenu/#howto\">How To</a>,\n",
       " <a accesskey=\"0\" href=\"/guide/browsers/#accesskeys\" tabindex=\"0\" title=\"About My NCBI Accesskeys\">About NCBI Accesskeys</a>,\n",
       " <a href=\"/account/settings/\" id=\"mnu\" title=\"Edit account settings\"></a>,\n",
       " <a accesskey=\"2\" href=\"/myncbi/\" id=\"myncbi\" style=\"display:none\">My NCBI</a>,\n",
       " <a href=\"/account/\" id=\"sign_in\">Sign in to NCBI</a>,\n",
       " <a href=\"/account/signout/\" id=\"sign_out\" style=\"display:none\">Sign Out</a>,\n",
       " <a class=\"pmc_logo offscreen\" href=\"/pmc/\">PMC</a>,\n",
       " <a href=\"https://www.nlm.nih.gov/\" title=\"US National Library of Medicine\">US National Library of Medicine</a>,\n",
       " <a href=\"https://www.nih.gov/\" title=\"National Institutes of Health\">National Institutes of Health</a>,\n",
       " <a href=\"/pmc/advanced/\">Advanced</a>,\n",
       " <a href=\"/pmc/journals/\">Journal list</a>,\n",
       " <a href=\"/books/NBK3825/\" target=\"_blank\">Help</a>,\n",
       " <a class=\"navlink\" href=\"/pmc/journals/\">Journal List</a>,\n",
       " <a class=\"navlink\" href=\"/pmc/journals/1223/\">Ann Dermatol</a>,\n",
       " <a class=\"navlink\" href=\"/pmc/issues/304545/\">v.30(1); 2018 Feb</a>,\n",
       " <area alt=\"This Article\" coords=\"378,29,499,43\" href=\"//dx.doi.org/10.5021/ad.2018.30.1.1\" ref=\"reftype=publisher&amp;article-id=5762458&amp;issue-id=304545&amp;journal-id=1223&amp;FROM=Article%7CBanner&amp;TO=Content%20Provider%7CArticle%7CFullText\" shape=\"rect\" target=\"pmc_ext\" title=\"This Article\"/>,\n",
       " <area alt=\"This Journal\" coords=\"378,29,499,43\" href=\"http://anndermatol.org\" ref=\"reftype=publisher&amp;article-id=5762458&amp;issue-id=304545&amp;journal-id=1223&amp;FROM=Article%7CBanner&amp;TO=Publisher%7COther%7CN/A\" shape=\"rect\" target=\"pmc_ext\" title=\"This Journal\"/>,\n",
       " <area alt=\"About\" coords=\"378,15,499,29\" href=\"http://anndermatol.org/index.php?body=aims\" ref=\"reftype=publisher&amp;article-id=5762458&amp;issue-id=304545&amp;journal-id=1223&amp;FROM=Article%7CBanner&amp;TO=Publisher%7COther%7CN/A\" shape=\"rect\" target=\"pmc_ext\" title=\"About\"/>,\n",
       " <area alt=\"Information for Authors\" coords=\"378,42,500,57\" href=\"http://anndermatol.org/index.php?body=instructions\" ref=\"reftype=publisher&amp;article-id=5762458&amp;issue-id=304545&amp;journal-id=1223&amp;FROM=Article%7CBanner&amp;TO=Publisher%7COther%7CN/A\" shape=\"rect\" target=\"pmc_ext\" title=\"Information for Authors\"/>,\n",
       " <area alt=\"Online Submission\" coords=\"400,56,501,78\" href=\"http://submit.anndermatol.org\" ref=\"reftype=publisher&amp;article-id=5762458&amp;issue-id=304545&amp;journal-id=1223&amp;FROM=Article%7CBanner&amp;TO=Publisher%7COther%7CN/A\" shape=\"rect\" target=\"pmc_ext\" title=\"Online Submission\"/>,\n",
       " <area alt=\"Annals of Dermatology\" coords=\"0,0,499,74\" href=\"http://anndermatol.org\" ref=\"reftype=publisher&amp;article-id=5762458&amp;issue-id=304545&amp;journal-id=1223&amp;FROM=Article%7CBanner&amp;TO=Publisher%7COther%7CN/A\" shape=\"rect\" target=\"pmc_ext\" title=\"Annals of Dermatology\"/>,\n",
       " <a href=\"//dx.doi.org/10.5021%2Fad.2018.30.1.1\" ref=\"reftype=other&amp;article-id=5762458&amp;issue-id=304545&amp;journal-id=1223&amp;FROM=Article%7CFront%20Matter&amp;TO=Content%20Provider%7CCrosslink%7CDOI\" target=\"pmc_ext\">10.5021/ad.2018.30.1.1</a>,\n",
       " <a href=\"/pubmed/29386825\">29386825</a>,\n",
       " <a class=\"affpopup\" co-class=\"co-affbox\" co-rid=\"_co_idm140493227082368\" href=\"/pubmed/?term=Kong%20SH%5BAuthor%5D&amp;cauthor=true&amp;cauthor_uid=29386825\">Sook Hyun Kong</a>,\n",
       " <a class=\"affpopup\" co-class=\"co-affbox\" co-rid=\"_co_idm140493186870176\" href=\"/pubmed/?term=Suh%20HS%5BAuthor%5D&amp;cauthor=true&amp;cauthor_uid=29386825\">Ho Seok Suh</a>,\n",
       " <a class=\"affpopup\" co-class=\"co-affbox\" co-rid=\"_co_idm140493180900480\" href=\"/pubmed/?term=Choi%20YS%5BAuthor%5D&amp;cauthor=true&amp;cauthor_uid=29386825\">Yu Sung Choi</a>,\n",
       " <a href=\"/pubmed/?term=Kong%20SH%5BAuthor%5D&amp;cauthor=true&amp;cauthor_uid=29386825\">Sook Hyun Kong</a>,\n",
       " <a href=\"/pubmed/?term=Suh%20HS%5BAuthor%5D&amp;cauthor=true&amp;cauthor_uid=29386825\">Ho Seok Suh</a>,\n",
       " <a href=\"/pubmed/?term=Choi%20YS%5BAuthor%5D&amp;cauthor=true&amp;cauthor_uid=29386825\">Yu Sung Choi</a>,\n",
       " <a class=\"pmctoggle\" href=\"#\" rid=\"idm140493192655008_ai\">Author information</a>,\n",
       " <a class=\"pmctoggle\" href=\"#\" rid=\"idm140493192655008_an\">Article notes</a>,\n",
       " <a class=\"pmctoggle\" href=\"#\" rid=\"idm140493192655008_cpl\">Copyright and License information</a>,\n",
       " <a href=\"/pmc/about/disclaimer/\">Disclaimer</a>,\n",
       " <a class=\"oemail\" data-email=\"ten.muad@amredhuu\" href=\"mailto:dev@null\">ten.muad@amredhuu</a>,\n",
       " <a href=\"/pmc/about/copyright/\">Copyright</a>,\n",
       " <a data-ga-action=\"click_feat_suppl\" href=\"http://creativecommons.org/licenses/by-nc/4.0\" ref=\"reftype=extlink&amp;article-id=5762458&amp;issue-id=304545&amp;journal-id=1223&amp;FROM=Article%7CFront%20Matter&amp;TO=External%7CLink%7CURI\" target=\"_blank\">http://creativecommons.org/licenses/by-nc/4.0</a>,\n",
       " <a href=\"/pmc/articles/PMC5762458/citedby/\">cited by</a>,\n",
       " <a class=\"bibr popnode tag_hotlink tag_tooltip\" href=\"#B1\" id=\"__tag_659549010\" rid=\"B1\">1</a>,\n",
       " <a class=\"bibr popnode tag_hotlink tag_tooltip\" href=\"#B2\" id=\"__tag_659549018\" rid=\"B2\">2</a>,\n",
       " <a class=\"bibr popnode tag_hotlink tag_tooltip\" href=\"#B3\" id=\"__tag_659549019\" rid=\"B3\">3</a>,\n",
       " <a class=\"bibr popnode tag_hotlink tag_tooltip\" href=\"#B4\" id=\"__tag_659549023\" rid=\"B4\">4</a>,\n",
       " <a class=\"bibr popnode tag_hotlink tag_tooltip\" href=\"#B5\" id=\"__tag_659549016\" rid=\"B5\">5</a>,\n",
       " <a class=\"bibr popnode tag_hotlink tag_tooltip\" href=\"#B6\" id=\"__tag_659549014\" rid=\"B6\">6</a>,\n",
       " <a class=\"bibr popnode tag_hotlink tag_tooltip\" href=\"#B7\" id=\"__tag_659549017\" rid=\"B7\">7</a>,\n",
       " <a class=\"bibr popnode tag_hotlink tag_tooltip\" href=\"#B8\" id=\"__tag_659549003\" rid=\"B8\">8</a>,\n",
       " <a class=\"bibr popnode tag_hotlink tag_tooltip\" href=\"#B9\" id=\"__tag_659549013\" rid=\"B9\">9</a>,\n",
       " <a class=\"bibr popnode tag_hotlink tag_tooltip\" href=\"#B10\" id=\"__tag_659548998\" rid=\"B10\">10</a>,\n",
       " <a class=\"bibr popnode tag_hotlink tag_tooltip\" href=\"#B11\" id=\"__tag_659549000\" rid=\"B11\">11</a>,\n",
       " <a class=\"bibr popnode tag_hotlink tag_tooltip\" href=\"#B7\" id=\"__tag_659549007\" rid=\"B7\">7</a>,\n",
       " <a class=\"bibr popnode tag_hotlink tag_tooltip\" href=\"#B8\" id=\"__tag_659549020\" rid=\"B8\">8</a>,\n",
       " <a class=\"bibr popnode tag_hotlink tag_tooltip\" href=\"#B9\" id=\"__tag_659549030\" rid=\"B9\">9</a>,\n",
       " <a class=\"bibr popnode tag_hotlink tag_tooltip\" href=\"#B10\" id=\"__tag_659549002\" rid=\"B10\">10</a>,\n",
       " <a class=\"bibr popnode tag_hotlink tag_tooltip\" href=\"#B7\" id=\"__tag_659549033\" rid=\"B7\">7</a>,\n",
       " <a class=\"bibr popnode tag_hotlink tag_tooltip\" href=\"#B8\" id=\"__tag_659548997\" rid=\"B8\">8</a>,\n",
       " <a class=\"bibr popnode tag_hotlink tag_tooltip\" href=\"#B9\" id=\"__tag_659548999\" rid=\"B9\">9</a>,\n",
       " <a class=\"bibr popnode tag_hotlink tag_tooltip\" href=\"#B10\" id=\"__tag_659549008\" rid=\"B10\">10</a>,\n",
       " <a class=\"bibr popnode tag_hotlink tag_tooltip\" href=\"#B11\" id=\"__tag_659549034\" rid=\"B11\">11</a>,\n",
       " <a class=\"fig-table-link figpopup\" co-legend-rid=\"lgnd_F1\" href=\"/pmc/articles/PMC5762458/figure/F1/\" rid-figpopup=\"F1\" rid-ob=\"ob-F1\" target=\"figure\"><span>Fig. 1</span></a>,\n",
       " <a href=\"/pmc/articles/PMC5762458/figure/F1/\" rid-figpopup=\"F1\" rid-ob=\"ob-F1\" target=\"figure\"><!--fig/graphic|fig/alternatives/graphic mode=\"anchored\" m1--><div class=\"figure\" data-largeobj=\"\" data-largeobj-link-rid=\"largeobj_idm140493180239344\"><a class=\"inline_block ts_canvas\" href=\"/core/lw/2.0/html/tileshop_pmc/tileshop_pmc_inline.html?title=Click%20on%20image%20to%20zoom&amp;p=PMC3&amp;id=5762458_ad-30-1-g001.jpg\" target=\"tileshopwindow\"><div class=\"ts_bar small\" title=\"Click on image to zoom\"></div><img alt=\"An external file that holds a picture, illustration, etc.\n",
       " Object name is ad-30-1-g001.jpg\" class=\"tileshop\" src=\"/pmc/articles/PMC5762458/bin/ad-30-1-g001.jpg\" title=\"Click on image to zoom\"/></a></div><div class=\"largeobj-link align_right\" id=\"largeobj_idm140493180239344\" style=\"display: none\"><a href=\"/pmc/articles/PMC5762458/figure/F1/?report=objectonly\" target=\"object\">Open in a separate window</a></div></a>,\n",
       " <a class=\"inline_block ts_canvas\" href=\"/core/lw/2.0/html/tileshop_pmc/tileshop_pmc_inline.html?title=Click%20on%20image%20to%20zoom&amp;p=PMC3&amp;id=5762458_ad-30-1-g001.jpg\" target=\"tileshopwindow\"><div class=\"ts_bar small\" title=\"Click on image to zoom\"></div><img alt=\"An external file that holds a picture, illustration, etc.\n",
       " Object name is ad-30-1-g001.jpg\" class=\"tileshop\" src=\"/pmc/articles/PMC5762458/bin/ad-30-1-g001.jpg\" title=\"Click on image to zoom\"/></a>,\n",
       " <a href=\"/pmc/articles/PMC5762458/figure/F1/?report=objectonly\" target=\"object\">Open in a separate window</a>,\n",
       " <a class=\"figpopup\" href=\"/pmc/articles/PMC5762458/figure/F1/\" rid-figpopup=\"F1\" rid-ob=\"ob-F1\" target=\"figure\">Fig. 1</a>,\n",
       " <a class=\"fig-table-link figpopup\" co-legend-rid=\"\" href=\"/pmc/articles/PMC5762458/table/T1/\" rid-figpopup=\"T1\" rid-ob=\"ob-T1\" target=\"table\"><span>Table 1</span></a>,\n",
       " <a class=\"fig-table-link figpopup\" co-legend-rid=\"lgnd_F2\" href=\"/pmc/articles/PMC5762458/figure/F2/\" rid-figpopup=\"F2\" rid-ob=\"ob-F2\" target=\"figure\"><span>Fig. 2</span></a>,\n",
       " <a class=\"fig-table-link figpopup\" co-legend-rid=\"\" href=\"/pmc/articles/PMC5762458/table/T2/\" rid-figpopup=\"T2\" rid-ob=\"ob-T2\" target=\"table\"><span>Table 2</span></a>,\n",
       " <a class=\"fig-table-link figpopup\" co-legend-rid=\"\" href=\"/pmc/articles/PMC5762458/table/T3/\" rid-figpopup=\"T3\" rid-ob=\"ob-T3\" target=\"table\"><span>Table 3</span></a>,\n",
       " <a class=\"fig-table-link figpopup\" co-legend-rid=\"lgnd_F3\" href=\"/pmc/articles/PMC5762458/figure/F3/\" rid-figpopup=\"F3\" rid-ob=\"ob-F3\" target=\"figure\"><span>Fig. 3</span></a>,\n",
       " <a href=\"/pmc/articles/PMC5762458/figure/F2/\" rid-figpopup=\"F2\" rid-ob=\"ob-F2\" target=\"figure\"><!--fig/graphic|fig/alternatives/graphic mode=\"anchored\" m1--><div class=\"figure\" data-largeobj=\"\" data-largeobj-link-rid=\"largeobj_idm140493261952192\"><img alt=\"An external file that holds a picture, illustration, etc.\n",
       " Object name is ad-30-1-g002.jpg\" class=\"fig-image\" src=\"/pmc/articles/PMC5762458/bin/ad-30-1-g002.jpg\" title=\"An external file that holds a picture, illustration, etc.\n",
       " Object name is ad-30-1-g002.jpg\"/></div><div class=\"largeobj-link align_right\" id=\"largeobj_idm140493261952192\" style=\"display: none\"><a href=\"/pmc/articles/PMC5762458/figure/F2/?report=objectonly\" target=\"object\">Open in a separate window</a></div></a>,\n",
       " <a href=\"/pmc/articles/PMC5762458/figure/F2/?report=objectonly\" target=\"object\">Open in a separate window</a>,\n",
       " <a class=\"figpopup\" href=\"/pmc/articles/PMC5762458/figure/F2/\" rid-figpopup=\"F2\" rid-ob=\"ob-F2\" target=\"figure\">Fig. 2</a>,\n",
       " <a href=\"/pmc/articles/PMC5762458/figure/F3/\" rid-figpopup=\"F3\" rid-ob=\"ob-F3\" target=\"figure\"><!--fig/graphic|fig/alternatives/graphic mode=\"anchored\" m1--><div class=\"figure\" data-largeobj=\"\" data-largeobj-link-rid=\"largeobj_idm140493189285840\"><a class=\"inline_block ts_canvas\" href=\"/core/lw/2.0/html/tileshop_pmc/tileshop_pmc_inline.html?title=Click%20on%20image%20to%20zoom&amp;p=PMC3&amp;id=5762458_ad-30-1-g003.jpg\" target=\"tileshopwindow\"><div class=\"ts_bar small\" title=\"Click on image to zoom\"></div><img alt=\"An external file that holds a picture, illustration, etc.\n",
       " Object name is ad-30-1-g003.jpg\" class=\"tileshop\" src=\"/pmc/articles/PMC5762458/bin/ad-30-1-g003.jpg\" title=\"Click on image to zoom\"/></a></div><div class=\"largeobj-link align_right\" id=\"largeobj_idm140493189285840\" style=\"display: none\"><a href=\"/pmc/articles/PMC5762458/figure/F3/?report=objectonly\" target=\"object\">Open in a separate window</a></div></a>,\n",
       " <a class=\"inline_block ts_canvas\" href=\"/core/lw/2.0/html/tileshop_pmc/tileshop_pmc_inline.html?title=Click%20on%20image%20to%20zoom&amp;p=PMC3&amp;id=5762458_ad-30-1-g003.jpg\" target=\"tileshopwindow\"><div class=\"ts_bar small\" title=\"Click on image to zoom\"></div><img alt=\"An external file that holds a picture, illustration, etc.\n",
       " Object name is ad-30-1-g003.jpg\" class=\"tileshop\" src=\"/pmc/articles/PMC5762458/bin/ad-30-1-g003.jpg\" title=\"Click on image to zoom\"/></a>,\n",
       " <a href=\"/pmc/articles/PMC5762458/figure/F3/?report=objectonly\" target=\"object\">Open in a separate window</a>,\n",
       " <a class=\"figpopup\" href=\"/pmc/articles/PMC5762458/figure/F3/\" rid-figpopup=\"F3\" rid-ob=\"ob-F3\" target=\"figure\">Fig. 3</a>,\n",
       " <a href=\"/pmc/articles/PMC5762458/table/T1/?report=objectonly\" target=\"object\">Open in a separate window</a>,\n",
       " <a href=\"/pmc/articles/PMC5762458/table/T2/?report=objectonly\" target=\"object\">Open in a separate window</a>,\n",
       " <a href=\"/pmc/articles/PMC5762458/table/T3/?report=objectonly\" target=\"object\">Open in a separate window</a>,\n",
       " <a class=\"fig-table-link figpopup\" co-legend-rid=\"lgnd_F4\" href=\"/pmc/articles/PMC5762458/figure/F4/\" rid-figpopup=\"F4\" rid-ob=\"ob-F4\" target=\"figure\"><span>Fig. 4</span></a>,\n",
       " <a href=\"/pmc/articles/PMC5762458/figure/F4/\" rid-figpopup=\"F4\" rid-ob=\"ob-F4\" target=\"figure\"><!--fig/graphic|fig/alternatives/graphic mode=\"anchored\" m1--><div class=\"figure\" data-largeobj=\"\" data-largeobj-link-rid=\"largeobj_idm140493176804832\"><a class=\"inline_block ts_canvas\" href=\"/core/lw/2.0/html/tileshop_pmc/tileshop_pmc_inline.html?title=Click%20on%20image%20to%20zoom&amp;p=PMC3&amp;id=5762458_ad-30-1-g004.jpg\" target=\"tileshopwindow\"><div class=\"ts_bar small\" title=\"Click on image to zoom\"></div><img alt=\"An external file that holds a picture, illustration, etc.\n",
       " Object name is ad-30-1-g004.jpg\" class=\"tileshop\" src=\"/pmc/articles/PMC5762458/bin/ad-30-1-g004.jpg\" title=\"Click on image to zoom\"/></a></div><div class=\"largeobj-link align_right\" id=\"largeobj_idm140493176804832\" style=\"display: none\"><a href=\"/pmc/articles/PMC5762458/figure/F4/?report=objectonly\" target=\"object\">Open in a separate window</a></div></a>,\n",
       " <a class=\"inline_block ts_canvas\" href=\"/core/lw/2.0/html/tileshop_pmc/tileshop_pmc_inline.html?title=Click%20on%20image%20to%20zoom&amp;p=PMC3&amp;id=5762458_ad-30-1-g004.jpg\" target=\"tileshopwindow\"><div class=\"ts_bar small\" title=\"Click on image to zoom\"></div><img alt=\"An external file that holds a picture, illustration, etc.\n",
       " Object name is ad-30-1-g004.jpg\" class=\"tileshop\" src=\"/pmc/articles/PMC5762458/bin/ad-30-1-g004.jpg\" title=\"Click on image to zoom\"/></a>,\n",
       " <a href=\"/pmc/articles/PMC5762458/figure/F4/?report=objectonly\" target=\"object\">Open in a separate window</a>,\n",
       " <a class=\"figpopup\" href=\"/pmc/articles/PMC5762458/figure/F4/\" rid-figpopup=\"F4\" rid-ob=\"ob-F4\" target=\"figure\">Fig. 4</a>,\n",
       " <a class=\"bibr popnode tag_hotlink tag_tooltip\" href=\"#B12\" id=\"__tag_659549015\" rid=\"B12\">12</a>,\n",
       " <a class=\"bibr popnode tag_hotlink tag_tooltip\" href=\"#B13\" id=\"__tag_659549028\" rid=\"B13\">13</a>,\n",
       " <a class=\"bibr popnode tag_hotlink tag_tooltip\" href=\"#B14\" id=\"__tag_659549032\" rid=\"B14\">14</a>,\n",
       " <a class=\"bibr popnode tag_hotlink tag_tooltip\" href=\"#B15\" id=\"__tag_659549031\" rid=\"B15\">15</a>,\n",
       " <a class=\"bibr popnode tag_hotlink tag_tooltip\" href=\"#B16\" id=\"__tag_659548993\" rid=\"B16\">16</a>,\n",
       " <a class=\"bibr popnode tag_hotlink tag_tooltip\" href=\"#B9\" id=\"__tag_659549011\" rid=\"B9\">9</a>,\n",
       " <a class=\"bibr popnode tag_hotlink tag_tooltip\" href=\"#B10\" id=\"__tag_659548996\" rid=\"B10\">10</a>,\n",
       " <a class=\"bibr popnode tag_hotlink tag_tooltip\" href=\"#B11\" id=\"__tag_659549029\" rid=\"B11\">11</a>,\n",
       " <a class=\"bibr popnode tag_hotlink tag_tooltip\" href=\"#B1\" id=\"__tag_659549021\" rid=\"B1\">1</a>,\n",
       " <a class=\"bibr popnode tag_hotlink tag_tooltip\" href=\"#B2\" id=\"__tag_659548995\" rid=\"B2\">2</a>,\n",
       " <a class=\"bibr popnode tag_hotlink tag_tooltip\" href=\"#B3\" id=\"__tag_659549001\" rid=\"B3\">3</a>,\n",
       " <a class=\"bibr popnode tag_hotlink tag_tooltip\" href=\"#B2\" id=\"__tag_659549004\" rid=\"B2\">2</a>,\n",
       " <a class=\"bibr popnode tag_hotlink tag_tooltip\" href=\"#B3\" id=\"__tag_659548992\" rid=\"B3\">3</a>,\n",
       " <a class=\"bibr popnode tag_hotlink tag_tooltip\" href=\"#B2\" id=\"__tag_659549009\" rid=\"B2\">2</a>,\n",
       " <a class=\"bibr popnode tag_hotlink tag_tooltip\" href=\"#B3\" id=\"__tag_659549005\" rid=\"B3\">3</a>,\n",
       " <a class=\"bibr popnode tag_hotlink tag_tooltip\" href=\"#B2\" id=\"__tag_659549006\" rid=\"B2\">2</a>,\n",
       " <a class=\"bibr popnode tag_hotlink tag_tooltip\" href=\"#B17\" id=\"__tag_659549012\" rid=\"B17\">17</a>,\n",
       " <a class=\"bibr popnode tag_hotlink tag_tooltip\" href=\"#B17\" id=\"__tag_659549022\" rid=\"B17\">17</a>,\n",
       " <a class=\"bibr popnode tag_hotlink tag_tooltip\" href=\"#B2\" id=\"__tag_659549025\" rid=\"B2\">2</a>,\n",
       " <a class=\"bibr popnode tag_hotlink tag_tooltip\" href=\"#B3\" id=\"__tag_659549027\" rid=\"B3\">3</a>,\n",
       " <a class=\"bibr popnode tag_hotlink tag_tooltip\" href=\"#B4\" id=\"__tag_659549024\" rid=\"B4\">4</a>,\n",
       " <a class=\"bibr popnode tag_hotlink tag_tooltip\" href=\"#B7\" id=\"__tag_659549026\" rid=\"B7\">7</a>,\n",
       " <a class=\"bibr popnode tag_hotlink tag_tooltip\" href=\"#B9\" id=\"__tag_659548994\" rid=\"B9\">9</a>,\n",
       " <a class=\"fig-table-link figpopup\" co-legend-rid=\"\" href=\"/pmc/articles/PMC5762458/table/T3/\" rid-figpopup=\"T3\" rid-ob=\"ob-T3\" target=\"table\"><span>Table 3</span></a>,\n",
       " <a href=\"/pubmed/7492140\" ref=\"reftype=pubmed&amp;article-id=5762458&amp;issue-id=304545&amp;journal-id=1223&amp;FROM=Article%7CCitationRef&amp;TO=Entrez%7CPubMed%7CRecord\" target=\"pmc_ext\">PubMed</a>,\n",
       " <a href=\"https://scholar.google.com/scholar_lookup?journal=Arch+Dermatol&amp;title=Melasma.+Etiologic+and+therapeutic+considerations&amp;author=PE+Grimes&amp;volume=131&amp;publication_year=1995&amp;pages=1453-1457&amp;pmid=7492140&amp;\" ref=\"reftype=other&amp;article-id=5762458&amp;issue-id=304545&amp;journal-id=1223&amp;FROM=Article%7CCitationRef&amp;TO=Content%20Provider%7CLink%7CGoogle%20Scholar\" target=\"pmc_ext\">Google Scholar</a>,\n",
       " <a href=\"/pubmed/19817757\" ref=\"reftype=pubmed&amp;article-id=5762458&amp;issue-id=304545&amp;journal-id=1223&amp;FROM=Article%7CCitationRef&amp;TO=Entrez%7CPubMed%7CRecord\" target=\"pmc_ext\">PubMed</a>,\n",
       " <a href=\"https://scholar.google.com/scholar_lookup?journal=Clin+Exp+Dermatol&amp;title=Melasma+treatment+in+Korean+women+using+a+1064-nm+Q-switched+Nd:YAG+laser+with+low+pulse+energy&amp;author=SB+Cho&amp;author=JS+Kim&amp;author=MJ+Kim&amp;volume=34&amp;publication_year=2009&amp;pages=e847-e850&amp;pmid=19817757&amp;\" ref=\"reftype=other&amp;article-id=5762458&amp;issue-id=304545&amp;journal-id=1223&amp;FROM=Article%7CCitationRef&amp;TO=Content%20Provider%7CLink%7CGoogle%20Scholar\" target=\"pmc_ext\">Google Scholar</a>,\n",
       " <a href=\"/pubmed/20298254\" ref=\"reftype=pubmed&amp;article-id=5762458&amp;issue-id=304545&amp;journal-id=1223&amp;FROM=Article%7CCitationRef&amp;TO=Entrez%7CPubMed%7CRecord\" target=\"pmc_ext\">PubMed</a>,\n",
       " <a href=\"https://scholar.google.com/scholar_lookup?journal=Dermatol+Surg&amp;title=Low-fluence+Q-switched+neodymium-doped+yttrium+aluminum+garnet+(1,064+nm)+laser+for+the+treatment+of+facial+melasma+in+Asians&amp;author=P+Wattanakrai&amp;author=R+Mornchan&amp;author=S+Eimpunth&amp;volume=36&amp;publication_year=2010&amp;pages=76-87&amp;pmid=20298254&amp;\" ref=\"reftype=other&amp;article-id=5762458&amp;issue-id=304545&amp;journal-id=1223&amp;FROM=Article%7CCitationRef&amp;TO=Content%20Provider%7CLink%7CGoogle%20Scholar\" target=\"pmc_ext\">Google Scholar</a>,\n",
       " <a href=\"/pubmed/20848553\" ref=\"reftype=pubmed&amp;article-id=5762458&amp;issue-id=304545&amp;journal-id=1223&amp;FROM=Article%7CCitationRef&amp;TO=Entrez%7CPubMed%7CRecord\" target=\"pmc_ext\">PubMed</a>,\n",
       " <a href=\"https://scholar.google.com/scholar_lookup?journal=Lasers+Surg+Med&amp;title=A+case+series+of+facial+depigmentation+associated+with+low+fluence+Q-switched+1,064+nm+Nd:YAG+laser+for+skin+rejuvenation+and+melasma&amp;author=NP+Chan&amp;author=SG+Ho&amp;author=SY+Shek&amp;author=CK+Yeung&amp;author=HH+Chan&amp;volume=42&amp;publication_year=2010&amp;pages=712-719&amp;pmid=20848553&amp;\" ref=\"reftype=other&amp;article-id=5762458&amp;issue-id=304545&amp;journal-id=1223&amp;FROM=Article%7CCitationRef&amp;TO=Content%20Provider%7CLink%7CGoogle%20Scholar\" target=\"pmc_ext\">Google Scholar</a>,\n",
       " <a href=\"/pubmed/17363223\" ref=\"reftype=pubmed&amp;article-id=5762458&amp;issue-id=304545&amp;journal-id=1223&amp;FROM=Article%7CCitationRef&amp;TO=Entrez%7CPubMed%7CRecord\" target=\"pmc_ext\">PubMed</a>,\n",
       " <a href=\"https://scholar.google.com/scholar_lookup?journal=J+Dermatol+Sci&amp;title=The+vascular+characteristics+of+melasma&amp;author=EH+Kim&amp;author=YC+Kim&amp;author=ES+Lee&amp;author=HY+Kang&amp;volume=46&amp;publication_year=2007&amp;pages=111-116&amp;pmid=17363223&amp;\" ref=\"reftype=other&amp;article-id=5762458&amp;issue-id=304545&amp;journal-id=1223&amp;FROM=Article%7CCitationRef&amp;TO=Content%20Provider%7CLink%7CGoogle%20Scholar\" target=\"pmc_ext\">Google Scholar</a>,\n",
       " <a href=\"/pubmed/16026585\" ref=\"reftype=pubmed&amp;article-id=5762458&amp;issue-id=304545&amp;journal-id=1223&amp;FROM=Article%7CCitationRef&amp;TO=Entrez%7CPubMed%7CRecord\" target=\"pmc_ext\">PubMed</a>,\n",
       " <a href=\"https://scholar.google.com/scholar_lookup?journal=Exp+Dermatol&amp;title=Modulation+of+vascular+endothelial+growth+factor+receptors+in+melanocytes&amp;author=EJ+Kim&amp;author=HY+Park&amp;author=M+Yaar&amp;author=BA+Gilchrest&amp;volume=14&amp;publication_year=2005&amp;pages=625-633&amp;pmid=16026585&amp;\" ref=\"reftype=other&amp;article-id=5762458&amp;issue-id=304545&amp;journal-id=1223&amp;FROM=Article%7CCitationRef&amp;TO=Content%20Provider%7CLink%7CGoogle%20Scholar\" target=\"pmc_ext\">Google Scholar</a>,\n",
       " <a href=\"/pubmed/26963145\" ref=\"reftype=pubmed&amp;article-id=5762458&amp;issue-id=304545&amp;journal-id=1223&amp;FROM=Article%7CCitationRef&amp;TO=Entrez%7CPubMed%7CRecord\" target=\"pmc_ext\">PubMed</a>,\n",
       " <a href=\"https://scholar.google.com/scholar_lookup?journal=Dermatol+Surg&amp;title=Long-pulsed+dye+laser+of+595+nm+in+combination+with+pigment-specific+modalities+for+a+patient+exhibiting+increased+vascularity+within+lesions+of+melasma&amp;author=ER+Geddes&amp;author=AB+Stout&amp;author=PM+Friedman&amp;volume=42&amp;publication_year=2016&amp;pages=556-559&amp;pmid=26963145&amp;\" ref=\"reftype=other&amp;article-id=5762458&amp;issue-id=304545&amp;journal-id=1223&amp;FROM=Article%7CCitationRef&amp;TO=Content%20Provider%7CLink%7CGoogle%20Scholar\" target=\"pmc_ext\">Google Scholar</a>,\n",
       " <a href=\"/pubmed/20482724\" ref=\"reftype=pubmed&amp;article-id=5762458&amp;issue-id=304545&amp;journal-id=1223&amp;FROM=Article%7CCitationRef&amp;TO=Entrez%7CPubMed%7CRecord\" target=\"pmc_ext\">PubMed</a>,\n",
       " <a href=\"https://scholar.google.com/scholar_lookup?journal=Dermatol+Surg&amp;title=Clinicopathologic+efficacy+of+copper+bromide+plus/yellow+laser+(578+nm+with+511+nm)+for+treatment+of+melasma+in+Asian+patients&amp;author=HI+Lee&amp;author=YY+Lim&amp;author=BJ+Kim&amp;author=MN+Kim&amp;author=HJ+Min&amp;volume=36&amp;publication_year=2010&amp;pages=885-893&amp;pmid=20482724&amp;\" ref=\"reftype=other&amp;article-id=5762458&amp;issue-id=304545&amp;journal-id=1223&amp;FROM=Article%7CCitationRef&amp;TO=Content%20Provider%7CLink%7CGoogle%20Scholar\" target=\"pmc_ext\">Google Scholar</a>,\n",
       " <a href=\"/pubmed/23957991\" ref=\"reftype=pubmed&amp;article-id=5762458&amp;issue-id=304545&amp;journal-id=1223&amp;FROM=Article%7CCitationRef&amp;TO=Entrez%7CPubMed%7CRecord\" target=\"pmc_ext\">PubMed</a>,\n",
       " <a href=\"https://scholar.google.com/scholar_lookup?journal=J+Am+Acad+Dermatol&amp;title=Long-lasting+effect+of+vascular+targeted+therapy+of+melasma&amp;author=T+Passeron&amp;volume=69&amp;publication_year=2013&amp;pages=e141-e142&amp;pmid=23957991&amp;\" ref=\"reftype=other&amp;article-id=5762458&amp;issue-id=304545&amp;journal-id=1223&amp;FROM=Article%7CCitationRef&amp;TO=Content%20Provider%7CLink%7CGoogle%20Scholar\" target=\"pmc_ext\">Google Scholar</a>,\n",
       " <a href=\"/pubmed/21931054\" ref=\"reftype=pubmed&amp;article-id=5762458&amp;issue-id=304545&amp;journal-id=1223&amp;FROM=Article%7CCitationRef&amp;TO=Entrez%7CPubMed%7CRecord\" target=\"pmc_ext\">PubMed</a>,\n",
       " <a href=\"https://scholar.google.com/scholar_lookup?journal=Arch+Dermatol&amp;title=Melasma+treatment+with+pulsed-dye+laser+and+triple+combination+cream:+a+prospective,+randomized,+single-blind,+split-face+study&amp;author=T+Passeron&amp;author=E+Fontas&amp;author=HY+Kang&amp;author=P+Bahadoran&amp;author=JP+Lacour&amp;volume=147&amp;publication_year=2011&amp;pages=1106-1108&amp;pmid=21931054&amp;\" ref=\"reftype=other&amp;article-id=5762458&amp;issue-id=304545&amp;journal-id=1223&amp;FROM=Article%7CCitationRef&amp;TO=Content%20Provider%7CLink%7CGoogle%20Scholar\" target=\"pmc_ext\">Google Scholar</a>,\n",
       " <a href=\"/pubmed/22329442\" ref=\"reftype=pubmed&amp;article-id=5762458&amp;issue-id=304545&amp;journal-id=1223&amp;FROM=Article%7CCitationRef&amp;TO=Entrez%7CPubMed%7CRecord\" target=\"pmc_ext\">PubMed</a>,\n",
       " <a href=\"https://scholar.google.com/scholar_lookup?journal=J+Eur+Acad+Dermatol+Venereol&amp;title=Effect+of+tranexamic+acid+on+melasma:+a+clinical+trial+with+histological+evaluation&amp;author=JI+Na&amp;author=SY+Choi&amp;author=SH+Yang&amp;author=HR+Choi&amp;author=HY+Kang&amp;volume=27&amp;publication_year=2013&amp;pages=1035-1039&amp;pmid=22329442&amp;\" ref=\"reftype=other&amp;article-id=5762458&amp;issue-id=304545&amp;journal-id=1223&amp;FROM=Article%7CCitationRef&amp;TO=Content%20Provider%7CLink%7CGoogle%20Scholar\" target=\"pmc_ext\">Google Scholar</a>,\n",
       " <a href=\"/pubmed/9935087\" ref=\"reftype=pubmed&amp;article-id=5762458&amp;issue-id=304545&amp;journal-id=1223&amp;FROM=Article%7CCitationRef&amp;TO=Entrez%7CPubMed%7CRecord\" target=\"pmc_ext\">PubMed</a>,\n",
       " <a href=\"https://scholar.google.com/scholar_lookup?journal=Dermatol+Surg&amp;title=The+safety+and+efficacy+of+salicylic+acid+chemical+peels+in+darker+racial-ethnic+groups&amp;author=PE+Grimes&amp;volume=25&amp;publication_year=1999&amp;pages=18-22&amp;pmid=9935087&amp;\" ref=\"reftype=other&amp;article-id=5762458&amp;issue-id=304545&amp;journal-id=1223&amp;FROM=Article%7CCitationRef&amp;TO=Content%20Provider%7CLink%7CGoogle%20Scholar\" target=\"pmc_ext\">Google Scholar</a>,\n",
       " <a href=\"/pubmed/3534025\" ref=\"reftype=pubmed&amp;article-id=5762458&amp;issue-id=304545&amp;journal-id=1223&amp;FROM=Article%7CCitationRef&amp;TO=Entrez%7CPubMed%7CRecord\" target=\"pmc_ext\">PubMed</a>,\n",
       " <a href=\"https://scholar.google.com/scholar_lookup?journal=J+Am+Acad+Dermatol&amp;title=Usefulness+of+retinoic+acid+in+the+treatment+of+melasma&amp;author=MA+Pathak&amp;author=TB+Fitzpatrick&amp;author=EW+Kraus&amp;volume=15&amp;publication_year=1986&amp;pages=894-899&amp;pmid=3534025&amp;\" ref=\"reftype=other&amp;article-id=5762458&amp;issue-id=304545&amp;journal-id=1223&amp;FROM=Article%7CCitationRef&amp;TO=Content%20Provider%7CLink%7CGoogle%20Scholar\" target=\"pmc_ext\">Google Scholar</a>,\n",
       " <a href=\"/pubmed/20937709\" ref=\"reftype=pubmed&amp;article-id=5762458&amp;issue-id=304545&amp;journal-id=1223&amp;FROM=Article%7CCitationRef&amp;TO=Entrez%7CPubMed%7CRecord\" target=\"pmc_ext\">PubMed</a>,\n",
       " <a href=\"https://scholar.google.com/scholar_lookup?journal=J+Electron+Microsc+(Tokyo)&amp;title=A+low+fluence+Q-switched+Nd:YAG+laser+modifies+the+3D+structure+of+melanocyte+and+ultrastructure+of+melanosome+by+subcellular-selective+photothermolysis&amp;author=JY+Mun&amp;author=SY+Jeong&amp;author=JH+Kim&amp;author=SS+Han&amp;author=IH+Kim&amp;volume=60&amp;publication_year=2011&amp;pages=11-18&amp;pmid=20937709&amp;\" ref=\"reftype=other&amp;article-id=5762458&amp;issue-id=304545&amp;journal-id=1223&amp;FROM=Article%7CCitationRef&amp;TO=Content%20Provider%7CLink%7CGoogle%20Scholar\" target=\"pmc_ext\">Google Scholar</a>,\n",
       " <a href=\"/pubmed/20463692\" ref=\"reftype=pubmed&amp;article-id=5762458&amp;issue-id=304545&amp;journal-id=1223&amp;FROM=Article%7CCitationRef&amp;TO=Entrez%7CPubMed%7CRecord\" target=\"pmc_ext\">PubMed</a>,\n",
       " <a href=\"https://scholar.google.com/scholar_lookup?journal=J+Invest+Dermatol&amp;title=Subcellular+selective+photothermolysis+of+melanosomes+in+adult+zebrafish+skin+following+1064-nm+Q-switched+Nd:YAG+laser+irradiation&amp;author=JH+Kim&amp;author=H+Kim&amp;author=HC+Park&amp;author=IH+Kim&amp;volume=130&amp;publication_year=2010&amp;pages=2333-2335&amp;pmid=20463692&amp;\" ref=\"reftype=other&amp;article-id=5762458&amp;issue-id=304545&amp;journal-id=1223&amp;FROM=Article%7CCitationRef&amp;TO=Content%20Provider%7CLink%7CGoogle%20Scholar\" target=\"pmc_ext\">Google Scholar</a>,\n",
       " <a class=\"int-reflink\" href=\"/pmc/articles/PMC3412234/\">PMC free article</a>,\n",
       " <a href=\"/pubmed/22879709\" ref=\"reftype=pubmed&amp;article-id=5762458&amp;issue-id=304545&amp;journal-id=1223&amp;FROM=Article%7CCitationRef&amp;TO=Entrez%7CPubMed%7CRecord\" target=\"pmc_ext\">PubMed</a>,\n",
       " <a href=\"https://scholar.google.com/scholar_lookup?journal=Ann+Dermatol&amp;title=Intense+pulsed+light+and+low-fluence+Q-switched+Nd:YAG+laser+treatment+in+melasma+patients&amp;author=SY+Na&amp;author=S+Cho&amp;author=JH+Lee&amp;volume=24&amp;publication_year=2012&amp;pages=267-273&amp;pmid=22879709&amp;\" ref=\"reftype=other&amp;article-id=5762458&amp;issue-id=304545&amp;journal-id=1223&amp;FROM=Article%7CCitationRef&amp;TO=Content%20Provider%7CLink%7CGoogle%20Scholar\" target=\"pmc_ext\">Google Scholar</a>,\n",
       " <a href=\"/pubmed/22136311\" ref=\"reftype=pubmed&amp;article-id=5762458&amp;issue-id=304545&amp;journal-id=1223&amp;FROM=Article%7CCitationRef&amp;TO=Entrez%7CPubMed%7CRecord\" target=\"pmc_ext\">PubMed</a>,\n",
       " <a href=\"https://scholar.google.com/scholar_lookup?journal=J+Dermatolog+Treat&amp;title=The+degree+of+erythema+in+melasma+lesion+is+associated+with+the+severity+of+disease+and+the+response+to+the+low-fluence+Q-switched+1064-nm+Nd:YAG+laser+treatment&amp;author=GH+Park&amp;author=JH+Lee&amp;author=JR+Choi&amp;author=SE+Chang&amp;volume=24&amp;publication_year=2013&amp;pages=297-299&amp;pmid=22136311&amp;\" ref=\"reftype=other&amp;article-id=5762458&amp;issue-id=304545&amp;journal-id=1223&amp;FROM=Article%7CCitationRef&amp;TO=Content%20Provider%7CLink%7CGoogle%20Scholar\" target=\"pmc_ext\">Google Scholar</a>,\n",
       " <a href=\"/pmc/articles/PMC5762458/?report=reader\">PubReader</a>,\n",
       " <a href=\"/pmc/articles/PMC5762458/epub/\">ePub (beta)</a>,\n",
       " <a href=\"/pmc/articles/PMC5762458/pdf/ad-30-1.pdf\">PDF (11M)</a>,\n",
       " <a class=\"citationexporter ctxp\" data-citationid=\"PMC5762458\" href=\"#\">Citation</a>,\n",
       " <a href=\"https://www.facebook.com/sharer/sharer.php?u=https%3A%2F%2Fwww.ncbi.nlm.nih.gov%2Fpmc%2Farticles%2FPMC5762458%2F\"><img alt=\"Share on Facebook\" src=\"//static.pubmed.gov/portal/portal3rc.fcgi/4160049/img/4047626\"/>\n",
       "                              Facebook\n",
       "                         </a>,\n",
       " <a href=\"https://twitter.com/intent/tweet?url=https%3A%2F%2Fwww.ncbi.nlm.nih.gov%2Fpmc%2Farticles%2FPMC5762458%2F&amp;text=Treatment%20of%20Melasma%20with%20Pulsed-Dye%20Laser%20and%201%2C064-nm%20Q-Switched%20Nd%3AYAG%20Laser%3A%20A%20Split-Face%20Study\"><img alt=\"Share on Twitter\" src=\"//static.pubmed.gov/portal/portal3rc.fcgi/4160049/img/4047627\"/>\n",
       "                              Twitter\n",
       "                         </a>,\n",
       " <a href=\"https://plus.google.com/share?url=https%3A%2F%2Fwww.ncbi.nlm.nih.gov%2Fpmc%2Farticles%2FPMC5762458%2F\"><img alt=\"Share on Google Plus\" src=\"//static.pubmed.gov/portal/portal3rc.fcgi/4160049/img/4047628\"/>\n",
       "                              Google+\n",
       "                         </a>,\n",
       " <a class=\"help_desk\" href=\"https://support.ncbi.nlm.nih.gov/ics/support/KBList.asp?Time=2019-11-08T00:03:47-05:00&amp;Snapshot=%2Fprojects%2FPMC%2FPMCViewer@4.46&amp;Host=portal102&amp;ncbi_phid=CE89173EDC4F41510000000001AD011A&amp;ncbi_session=CE89173EDC4F7321_0429SID&amp;from=https%3A%2F%2Fwww.ncbi.nlm.nih.gov%2Fpmc%2Farticles%2FPMC5762458%2F&amp;Db=pmc&amp;folderID=132&amp;Ncbi_App=pmc&amp;Page=literature&amp;style=classic&amp;deptID=28049\" id=\"help-desk-link\" target=\"_blank\">Support Center</a>,\n",
       " <a href=\"https://www.nlm.nih.gov/privacy.html\">privacy policy</a>,\n",
       " <a href=\"https://www.nlm.nih.gov\" title=\"NLM\">NLM</a>,\n",
       " <a href=\"https://www.nih.gov\" title=\"NIH\">NIH</a>,\n",
       " <a href=\"https://www.hhs.gov\" title=\"DHHS\">DHHS</a>,\n",
       " <a href=\"https://www.usa.gov\" title=\"USA.gov\">USA.gov</a>,\n",
       " <a class=\"fn url newdomain\" href=\"https://www.ncbi.nlm.nih.gov\">National Center for\n",
       "                         Biotechnology Information</a>,\n",
       " <a href=\"https://www.nlm.nih.gov/\">U.S. National Library of Medicine</a>,\n",
       " <a href=\"/home/about/policies.shtml\">Policies and Guidelines</a>,\n",
       " <a href=\"/home/about/contact.shtml\">Contact</a>]"
      ]
     },
     "execution_count": 6,
     "metadata": {},
     "output_type": "execute_result"
    }
   ],
   "source": [
    "import re\n",
    "def has_class_but_no_id(tag):\n",
    "    return tag.has_attr('class') and not tag.has_attr('id')\n",
    "def not_lacie(href):\n",
    "    return href and not re.compile(\"lacie\").search(href)\n",
    "soup.find_all(has_class_but_no_id)\n",
    "soup.find_all(href=not_lacie)"
   ]
  },
  {
   "cell_type": "code",
   "execution_count": 8,
   "metadata": {},
   "outputs": [
    {
     "data": {
      "text/plain": [
       "[]"
      ]
     },
     "execution_count": 8,
     "metadata": {},
     "output_type": "execute_result"
    }
   ],
   "source": [
    "soup.find_all(class_=\"link\")"
   ]
  },
  {
   "cell_type": "code",
   "execution_count": null,
   "metadata": {},
   "outputs": [],
   "source": []
  }
 ],
 "metadata": {
  "kernelspec": {
   "display_name": "Python 3",
   "language": "python",
   "name": "python3"
  },
  "language_info": {
   "codemirror_mode": {
    "name": "ipython",
    "version": 3
   },
   "file_extension": ".py",
   "mimetype": "text/x-python",
   "name": "python",
   "nbconvert_exporter": "python",
   "pygments_lexer": "ipython3",
   "version": "3.7.4"
  }
 },
 "nbformat": 4,
 "nbformat_minor": 2
}
