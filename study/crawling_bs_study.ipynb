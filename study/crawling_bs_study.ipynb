{
 "cells": [
  {
   "cell_type": "code",
   "execution_count": 47,
   "metadata": {},
   "outputs": [],
   "source": [
    "import urllib.request, urllib.parse, urllib.error\n",
    "from bs4 import BeautifulSoup\n",
    "import requests\n",
    "target_url = 'https://www.ncbi.nlm.nih.gov/pmc/articles/PMC5762458/'\n",
    "'''\n",
    "###방법 1\n",
    "###html 문서를 가져옵니다.\n",
    "html = urllib.request.urlopen(target_url).read()\n",
    "\n",
    "###html 문서를 파싱합니다.\n",
    "soup = BeautifulSoup(html, 'html.parser')\n",
    "'''\n",
    "###방법2\n",
    "###html 문서를 가져옵니다\n",
    "res = requests.get(target_url, headers=headers)\n",
    "res = res.text \n",
    "\n",
    "###html 문서를 파싱합니다.\n",
    "soup = BeautifulSoup(res, 'html.parser')"
   ]
  },
  {
   "cell_type": "code",
   "execution_count": 48,
   "metadata": {},
   "outputs": [],
   "source": [
    "###html 문서를 보기 편하게 합니다.\n",
    "#print(soup.prettify())"
   ]
  },
  {
   "cell_type": "code",
   "execution_count": 49,
   "metadata": {},
   "outputs": [
    {
     "name": "stdout",
     "output_type": "stream",
     "text": [
      "<title>Treatment of Melasma with Pulsed-Dye Laser and 1,064-nm Q-Switched Nd:YAG Laser: A Split-Face Study</title>\n"
     ]
    }
   ],
   "source": [
    "### <title>The Dormouse's story</title>\n",
    "print(soup.title)"
   ]
  },
  {
   "cell_type": "code",
   "execution_count": 10,
   "metadata": {},
   "outputs": [
    {
     "name": "stdout",
     "output_type": "stream",
     "text": [
      "title\n"
     ]
    }
   ],
   "source": [
    "### u'title'\n",
    "print(soup.title.name)"
   ]
  },
  {
   "cell_type": "code",
   "execution_count": 50,
   "metadata": {},
   "outputs": [
    {
     "name": "stdout",
     "output_type": "stream",
     "text": [
      "Treatment of Melasma with Pulsed-Dye Laser and 1,064-nm Q-Switched Nd:YAG Laser: A Split-Face Study\n"
     ]
    }
   ],
   "source": [
    "### u'The Dormouse's story'\n",
    "print(soup.title.string)"
   ]
  },
  {
   "cell_type": "code",
   "execution_count": 12,
   "metadata": {},
   "outputs": [
    {
     "name": "stdout",
     "output_type": "stream",
     "text": [
      "head\n"
     ]
    }
   ],
   "source": [
    "### u'head'\n",
    "print(soup.title.parent.name)"
   ]
  },
  {
   "cell_type": "code",
   "execution_count": 13,
   "metadata": {},
   "outputs": [
    {
     "name": "stdout",
     "output_type": "stream",
     "text": [
      "<p class=\"etc_btn\">\n",
      "<a class=\"sch_dt\" href=\"/ndsl/search/detail/articleDetailsearch.do;jsessionid=SqwBwdbW1jgwFAi1kRXnBOiSp5g82L5lE88FlO4EfH5oJqwpynVBuIdVTMT3v6tp.al228_servlet_engine11\" title=\"상세검색\">상세검색</a>\n",
      "<a class=\"multi_kb\" href=\"javascript:void(0);\" onclick=\"fncLangModalOpen();\" title=\"다국어 입력창 열기\">다국어입력</a>\n",
      "</p>\n"
     ]
    }
   ],
   "source": [
    "### <p class=\"title\"><b>The Dormouse's story</b></p>\n",
    "print(soup.p)"
   ]
  },
  {
   "cell_type": "code",
   "execution_count": 32,
   "metadata": {},
   "outputs": [
    {
     "name": "stdout",
     "output_type": "stream",
     "text": [
      "['etc_btn']\n",
      "<span>본문 바로가기</span>\n"
     ]
    }
   ],
   "source": [
    "### u'title'\n",
    "print(soup.p['class'])\n",
    "print(soup.span)"
   ]
  },
  {
   "cell_type": "code",
   "execution_count": 15,
   "metadata": {},
   "outputs": [
    {
     "name": "stdout",
     "output_type": "stream",
     "text": [
      "<a href=\"#container\"><span>본문 바로가기</span></a>\n"
     ]
    }
   ],
   "source": [
    "### <a class=\"sister\" href=\"http://example.com/elsie\" id=\"link1\">Elsie</a>\n",
    "print(soup.a)"
   ]
  },
  {
   "cell_type": "code",
   "execution_count": 16,
   "metadata": {},
   "outputs": [
    {
     "name": "stdout",
     "output_type": "stream",
     "text": [
      "[<a href=\"#container\"><span>본문 바로가기</span></a>, <a href=\"/ndsl/main/main.do;jsessionid=SqwBwdbW1jgwFAi1kRXnBOiSp5g82L5lE88FlO4EfH5oJqwpynVBuIdVTMT3v6tp.al228_servlet_engine11\">NDSL</a>, <a class=\"sel_btn\" href=\"javascript:void(0);\" id=\"selTxt\" onclick=\"fncPopupOpen(this,'menuModal');\">전체</a>, <a href=\"javascript:void(0);\"><span class=\"txt_em\">na</span>chr</a>, <a href=\"javascript:void(0);\"><span class=\"txt_em\">na</span>d</a>, <a href=\"javascript:void(0);\"><span class=\"txt_em\">na</span>ilfold</a>, <a href=\"javascript:void(0);\"><span class=\"txt_em\">na</span>nd</a>, <a href=\"javascript:void(0);\"><span class=\"txt_em\">na</span>nd flash</a>, <a href=\"javascript:void(0);\"><span class=\"txt_em\">na</span>nda</a>, <a href=\"javascript:void(0);\"><span class=\"txt_em\">na</span>no</a>, <a href=\"javascript:void(0);\">coro<span class=\"txt_em\">na</span></a>, <a href=\"javascript:void(0);\">d<span class=\"txt_em\">na</span></a>, <a href=\"javascript:void(0);\">alumi<span class=\"txt_em\">na</span></a>, <a href=\"javascript:void(0);\">antenna<span class=\"txt_em\">na</span></a>, <a href=\"javascript:void(0);\">microrna<span class=\"txt_em\">na</span></a>, <a class=\"sch_dt\" href=\"/ndsl/search/detail/articleDetailsearch.do;jsessionid=SqwBwdbW1jgwFAi1kRXnBOiSp5g82L5lE88FlO4EfH5oJqwpynVBuIdVTMT3v6tp.al228_servlet_engine11\" title=\"상세검색\">상세검색</a>, <a class=\"multi_kb\" href=\"javascript:void(0);\" onclick=\"fncLangModalOpen();\" title=\"다국어 입력창 열기\">다국어입력</a>, <a class=\"btn_logout\" href=\"javascript:void(0);\" title=\"로그인\"><span class=\"ico_ndsl ico_user\"></span>로그인</a>, <a href=\"javascript:void(0);\" id=\"menuIcon\" title=\"메뉴보기\"><span class=\"ico_ndsl ico_menu\"></span>메뉴보기</a>, <a href=\"javascript:void(0);\" onclick=\"javascript:fncPinLogInsert('P01', this, 'U', 'http://www.ndsl.kr/ndsl/about/ed/infosearchNdPrcuse.do'); return false;\" target=\"_blank\">\n",
      "<img alt=\"NDSL 정보검색 가이드\" src=\"http://www.ndsl.kr/ndsl/commons/util/imgFileView.do?gubun=banner&amp;fileNm=20180423_435940404509082.png\"/>\n",
      "<span class=\"box_border\"></span>\n",
      "</a>, <a class=\"cnType\" data-type=\"recomend\" href=\"javascript:void(0);\">추천</a>, <a class=\"cnType\" data-type=\"all\" href=\"javascript:void(0);\">전체</a>, <a class=\"main_tab_btn\" data-col=\"pp\" data-type=\"all\" href=\"javascript:void(0);\">논문</a>, <a class=\"main_tab_btn\" data-col=\"pt\" data-type=\"all\" href=\"javascript:void(0);\">특허</a>, <a class=\"main_tab_btn\" data-col=\"rp\" data-type=\"all\" href=\"javascript:void(0);\">보고서</a>, <a class=\"main_tab_btn\" data-col=\"tr\" data-type=\"all\" href=\"javascript:void(0);\">동향</a>, <a class=\"main_tab_btn\" data-col=\"pp\" data-type=\"recomend\" href=\"javascript:void(0);\">추천논문</a>, <a class=\"main_tab_btn\" data-col=\"pt\" data-type=\"recomend\" href=\"javascript:void(0);\">추천특허</a>, <a class=\"main_tab_btn\" data-col=\"rp\" data-type=\"recomend\" href=\"javascript:void(0);\">추천보고서</a>, <a class=\"main_tab_btn\" data-col=\"tr\" data-type=\"recomend\" href=\"javascript:void(0);\">추천동향</a>, <a href=\"javascript:void(0);\" onclick=\"fncGoToDetail('DIKO0015014742' , '학위논문 all scholar' , this);\" title=\"화장품 개발을 위한 남천의 항염 및 항알레르기 효능 평가\">화장품 개발을 위한 남천의 항염 및 항알레르기 효능 평가</a>, <a href=\"javascript:void(0);\" onclick=\"fncGoToDetail('DIKO0015025596' , '학위논문 all scholar' , this);\" title=\"영아반 보육교사의 &lt;!HS&gt;미세먼지&lt;!HE&gt; 인식과 실내대체활동 실태조사\">영아반 보육교사의 <!--HS-->미세먼지<!--HE--> 인식과 실내대체활동 실태조사</a>, <a href=\"javascript:void(0);\" onclick=\"fncGoToDetail('DIKO0015013963' , '학위논문 all scholar' , this);\" title=\"&lt;!HS&gt;미세먼지&lt;!HE&gt;에 관한 유아교사의 인식과 대응 및 교육 실태\"><!--HS-->미세먼지<!--HE-->에 관한 유아교사의 인식과 대응 및 교육 실태</a>, <a href=\"javascript:void(0);\" onclick=\"fncGoToDetail('DIKO0015015880' , '학위논문 all scholar' , this);\" title=\"&lt;!HS&gt;미세먼지&lt;!HE&gt;의 결정요인에 관한 연구\"><!--HS-->미세먼지<!--HE-->의 결정요인에 관한 연구</a>, <a href=\"javascript:void(0);\" onclick=\"fncGoToDetail('DIKO0015015935' , '학위논문 all scholar' , this);\" title=\"빌딩에너지관리시스템(BEMS)을 위한 분산데이터 처리시스템 구현\">빌딩에너지관리시스템(BEMS)을 위한 분산데이터 처리시스템 구현</a>, <a href=\"javascript:void(0);\" onclick=\"fncGoToDetail('DIKO0015025483' , '학위논문 all scholar' , this);\" title=\"WRF-Chem과 WRF/CMAQ 모형의 &lt;!HS&gt;미세먼지&lt;!HE&gt; 모의 성능 비교\">WRF-Chem과 WRF/CMAQ 모형의 <!--HS-->미세먼지<!--HE--> 모의 성능 비교</a>, <a href=\"javascript:void(0);\" onclick=\"fncGoToDetail('DIKO0015025460' , '학위논문 all scholar' , this);\" title=\"GWR 모델을 활용한 &lt;!HS&gt;미세먼지&lt;!HE&gt;(PM10) 오염농도와 토지피복간의 상관성 평가 : 경기도 남부 지역을 중심으로\">GWR 모델을 활용한 <!--HS-->미세먼지<!--HE-->(PM10) 오염농도와 토지피복간의 상관성 평가 : 경기도 남부 지역을 중심으로</a>, <a href=\"javascript:void(0);\" onclick=\"fncGoToDetail('DIKO0015025492' , '학위논문 all scholar' , this);\" title=\"겨울철 한반도 PM10 농도의 경년 변동에 대한 북극 해빙의 영향\">겨울철 한반도 PM10 농도의 경년 변동에 대한 북극 해빙의 영향</a>, <a href=\"javascript:void(0);\" onclick=\"fncGoToDetail('DIKO0015070065' , '학위논문 all scholar' , this);\" title=\"고전압 공진형 컨버터의 설계와 플라즈마 전기집진기의 응용\">고전압 공진형 컨버터의 설계와 플라즈마 전기집진기의 응용</a>, <a href=\"javascript:void(0);\" onclick=\"fncGoToDetail('NART96373975' , '국내논문 all scholar' , this);\" title=\"An Automated Tracking System of Fine Dust Generating Spot for Building Dismantlement Sites\">An Automated Tracking System of Fine Dust Generating Spot for Building Dismantlement Sites</a>, <a href=\"javascript:void(0);\" onclick=\"fncGoToDetail('DIKO0014516178', '학위논문 all scholar' , this);\" title=\"&lt;!HS&gt;미세먼지&lt;!HE&gt; 자료동화 및 통합예보모형 개발연구\"><!--HS-->미세먼지<!--HE--> 자료동화 및 통합예보모형 개발연구</a>, <a href=\"javascript:void(0);\" onclick=\"fncGoToDetail('NPAP12898265', '국내논문 all scholar' , this);\" title=\"&lt;!HS&gt;미세먼지&lt;!HE&gt; 저감 및 관리에 관한 입법 및 정책적 검토\"><!--HS-->미세먼지<!--HE--> 저감 및 관리에 관한 입법 및 정책적 검토</a>, <a href=\"javascript:void(0);\" onclick=\"fncGoToDetail('JAKO201867551544620', '국내논문 all scholar' , this);\" title=\"&lt;!HS&gt;미세먼지&lt;!HE&gt; 해법의 올바른 방향 - &lt;!HS&gt;미세먼지&lt;!HE&gt; 대응, 새로운 방향 설정이 필요하다\"><!--HS-->미세먼지<!--HE--> 해법의 올바른 방향 - <!--HS-->미세먼지<!--HE--> 대응, 새로운 방향 설정이 필요하다</a>, <a href=\"javascript:void(0);\" onclick=\"fncGoToDetail('DIKO0014577260', '학위논문 all scholar' , this);\" title=\"&lt;!HS&gt;미세먼지&lt;!HE&gt; 위험지각과 마스크 착용 증진방안에 관한 연구\"><!--HS-->미세먼지<!--HE--> 위험지각과 마스크 착용 증진방안에 관한 연구</a>, <a href=\"javascript:void(0);\" onclick=\"fncGoToDetail('DIKO0013283745', '학위논문 all scholar' , this);\" title=\"&lt;!HS&gt;미세먼지&lt;!HE&gt; PM10 증가에 따른 사망률 변화에 대한 체계적 문헌고찰\"><!--HS-->미세먼지<!--HE--> PM10 증가에 따른 사망률 변화에 대한 체계적 문헌고찰</a>, <a href=\"javascript:void(0);\" onclick=\"fncGoToDetail('DIKO0014857846', '학위논문 all scholar' , this);\" title=\"&lt;!HS&gt;미세먼지&lt;!HE&gt; 위험에 대한 인식과 소셜미디어 의존이 &lt;!HS&gt;미세먼지&lt;!HE&gt;에 대한 대응행동에 미치는 영향\"><!--HS-->미세먼지<!--HE--> 위험에 대한 인식과 소셜미디어 의존이 <!--HS-->미세먼지<!--HE-->에 대한 대응행동에 미치는 영향</a>, <a href=\"javascript:void(0);\" onclick=\"fncGoToDetail('DIKO0014730313', '학위논문 all scholar' , this);\" title=\"&lt;!HS&gt;미세먼지&lt;!HE&gt; 관련 질병 데이터 모형 연구\"><!--HS-->미세먼지<!--HE--> 관련 질병 데이터 모형 연구</a>, <a href=\"javascript:void(0);\" onclick=\"fncGoToDetail('DIKO0014897285', '학위논문 all scholar' , this);\" title=\"&lt;!HS&gt;미세먼지&lt;!HE&gt; 농도에 따른 환경에서 운동이 심폐기능과 유산소운동능력에 미치는 영향\"><!--HS-->미세먼지<!--HE--> 농도에 따른 환경에서 운동이 심폐기능과 유산소운동능력에 미치는 영향</a>, <a href=\"javascript:void(0);\" onclick=\"fncGoToDetail('DIKO0013840163', '학위논문 all scholar' , this);\" title=\"&lt;!HS&gt;미세먼지&lt;!HE&gt; 중량측정법의 신뢰성 확보를 위한 정도 관리 및 불확도 최소화 방안 연구\"><!--HS-->미세먼지<!--HE--> 중량측정법의 신뢰성 확보를 위한 정도 관리 및 불확도 최소화 방안 연구</a>, <a href=\"javascript:void(0);\" onclick=\"fncGoToDetail('DIKO0014516178', '학위논문 all scholar' , this);\" title=\"&lt;!HS&gt;미세먼지&lt;!HE&gt; 자료동화 및 통합예보모형 개발연구\"><!--HS-->미세먼지<!--HE--> 자료동화 및 통합예보모형 개발연구</a>, <a class=\"set\" href=\"javascript:void(0);\" onclick=\"javascript:fncPopupOpen(this, 'registLayer'); return false;\">등록</a>, <a class=\"trend_tab_btn\" data-type=\"GTB\" href=\"javascript:void(0);\">과학기술동향</a>, <a class=\"txt\" href=\"javascript:void(0);\" onclick=\"javascript:moveMainDetail('GTB2019005439' , this);\" style=\"width: 100%;\">파킨슨병에서 혈액에 있는 면역 세포의 거동</a>, <a class=\"txt\" href=\"javascript:void(0);\" onclick=\"javascript:moveMainDetail('GTB2019005440' , this);\" style=\"width: 100%;\">심장병, 비만, 제2형 당뇨병 퇴치에 도움이 될 수 있는 효소 발견</a>, <a class=\"txt\" href=\"javascript:void(0);\" onclick=\"javascript:moveMainDetail('GTB2019005437' , this);\" style=\"width: 100%;\">자녀 비만과 연관된 임신 중 높은 납 농도</a>, <a class=\"txt\" href=\"javascript:void(0);\" onclick=\"javascript:moveMainDetail('GTB2019005438' , this);\" style=\"width: 100%;\">심부전과 비만의 역설</a>, <a class=\"txt\" href=\"javascript:void(0);\" onclick=\"javascript:moveMainDetail('GTB2019005434' , this);\" style=\"width: 100%;\">약물 혼합 치료로 초파리 생명 연장</a>, <a class=\"txt\" href=\"javascript:void(0);\" onclick=\"javascript:moveMainDetail('GTB2019005435' , this);\" style=\"width: 100%;\">몸무게 증가와 장내 세균을 연결하는 분자</a>, <a class=\"txt\" href=\"javascript:void(0);\" onclick=\"javascript:moveMainDetail('GTB2019005436' , this);\" style=\"width: 100%;\">영국 정부의 데이터 전략에 대한 비판</a>, <a class=\"txt\" href=\"javascript:void(0);\" onclick=\"javascript:moveMainDetail('GTB2019005429' , this);\" style=\"width: 100%;\">프랑스 연구팀, 머신러닝을 통한 자폐증 치료용 이모페이스(Emoface) 개발</a>, <a class=\"txt\" href=\"javascript:void(0);\" onclick=\"javascript:moveMainDetail('GTB2019005430' , this);\" style=\"width: 100%;\">프랑스국립과학연구원, 암진단용 바이오마커 탐지 기술 상용화 착수</a>, <a class=\"txt\" href=\"javascript:void(0);\" onclick=\"javascript:moveMainDetail('GTB2019005431' , this);\" style=\"width: 100%;\">바이오연료 생산을 위한 맞춤형 미생물을 개발한 미국</a>, <a class=\"txt\" href=\"javascript:void(0);\" onclick=\"javascript:moveMainDetail('GTB2019005432' , this);\" style=\"width: 100%;\">신재생에너지에 미화 20억불 이상을 투자하는 Google</a>, <a class=\"txt\" href=\"javascript:void(0);\" onclick=\"javascript:moveMainDetail('GTB2019005433' , this);\" style=\"width: 100%;\">전 원전에 대한 2번째 운영허가 갱신을 추진하는 미 Duke사</a>, <a class=\"txt\" href=\"javascript:void(0);\" onclick=\"javascript:moveMainDetail('GTB2019005419' , this);\" style=\"width: 100%;\">돼지 열병의 확산에 영향을 끼치는 중요한 요소들</a>, <a class=\"txt\" href=\"javascript:void(0);\" onclick=\"javascript:moveMainDetail('GTB2019005420' , this);\" style=\"width: 100%;\">인공지능과 기기학습이 접목된 인공 팔의 기술개발 동향</a>, <a class=\"txt\" href=\"javascript:void(0);\" onclick=\"javascript:moveMainDetail('GTB2019005421' , this);\" style=\"width: 100%;\">인공지능이 기업 및 조직에 미치는 영향은 어느 수준인가?</a>, <a class=\"txt\" href=\"javascript:void(0);\" onclick=\"javascript:moveMainDetail('GTB2019005422' , this);\" style=\"width: 100%;\">자동화된 무기로 인해 우발적인 차세대 세계대전 발발 위험성 경고</a>, <a class=\"txt\" href=\"javascript:void(0);\" onclick=\"javascript:moveMainDetail('GTB2019005423' , this);\" style=\"width: 100%;\">인공지능 사용에 따라 편향된 부작용의 발생을 우려하고 있는 영국 경찰</a>, <a class=\"txt\" href=\"javascript:void(0);\" onclick=\"javascript:moveMainDetail('GTB2019005424' , this);\" style=\"width: 100%;\">기술 대기업들의 인공지능을 개발이 세계를 위험에 빠뜨리고 있다</a>, <a class=\"txt\" href=\"javascript:void(0);\" onclick=\"javascript:moveMainDetail('GTB2019005425' , this);\" style=\"width: 100%;\">악성코드를 활용한 스마트TV 제조사들의 데이터 유출 실태</a>, <a class=\"txt\" href=\"javascript:void(0);\" onclick=\"javascript:moveMainDetail('GTB2019005426' , this);\" style=\"width: 100%;\">운송, 선적, 유틸리티를 대상으로 삼은 신종 악성코드 출현</a>, <a class=\"txt\" href=\"javascript:void(0);\" onclick=\"javascript:moveMainDetail('GTB2019005427' , this);\" style=\"width: 100%;\">옥스포드 연구진, 인공지능을 활용해 영장류 안면인식기술 개발에 성공</a>, <a class=\"txt\" href=\"javascript:void(0);\" onclick=\"javascript:moveMainDetail('GTB2019005428' , this);\" style=\"width: 100%;\">애견 비만에 대한 새로운 연구</a>, <a class=\"trend_tab_btn\" data-type=\"SCTM\" href=\"javascript:void(0);\">사이언스타임즈</a>, <a class=\"txt\" href=\"javascript:void(0);\" onclick=\"javascript:moveMainDetail('SCTM00198233' , this);\" style=\"width: 100%;\">석유 화학의 쌀 '에틸렌'의 재발견</a>, <a class=\"txt\" href=\"javascript:void(0);\" onclick=\"javascript:moveMainDetail('SCTM00198244' , this);\" style=\"width: 100%;\">“초연결 시대는 새로운 기회다”</a>, <a class=\"txt\" href=\"javascript:void(0);\" onclick=\"javascript:moveMainDetail('SCTM00198228' , this);\" style=\"width: 100%;\">세계가 주목할 비즈니스 트렌드는?</a>, <a class=\"txt\" href=\"javascript:void(0);\" onclick=\"javascript:moveMainDetail('SCTM00198258' , this);\" style=\"width: 100%;\">생체반응이 감정반응의 객관적 지표?</a>, <a class=\"txt\" href=\"javascript:void(0);\" onclick=\"javascript:moveMainDetail('SCTM00198275' , this);\" style=\"width: 100%;\">범죄수사용, 모발 분석 기법 개발</a>, <a class=\"txt\" href=\"javascript:void(0);\" onclick=\"javascript:moveMainDetail('SCTM00198211' , this);\" style=\"width: 100%;\">노화방지 의약품, 2년 내 실현되나?</a>, <a class=\"txt\" href=\"javascript:void(0);\" onclick=\"javascript:moveMainDetail('SCTM00198195' , this);\" style=\"width: 100%;\">과학자 1만 명, 기후변화 비상선언</a>, <a class=\"txt\" href=\"javascript:void(0);\" onclick=\"javascript:moveMainDetail('SCTM00198201' , this);\" style=\"width: 100%;\">조류도 유인원만큼 복잡한 사회 구성</a>, <a class=\"txt\" href=\"javascript:void(0);\" onclick=\"javascript:moveMainDetail('SCTM00198185' , this);\" style=\"width: 100%;\">탄소를 전혀 배출하지 않는 농장 구현</a>, <a class=\"txt\" href=\"javascript:void(0);\" onclick=\"javascript:moveMainDetail('SCTM00198162' , this);\" style=\"width: 100%;\">태양계 끝에서 무슨 일이?</a>, <a class=\"txt\" href=\"javascript:void(0);\" onclick=\"javascript:moveMainDetail('SCTM00198099' , this);\" style=\"width: 100%;\">소형 발사체 개발 열기 '후끈'</a>, <a class=\"txt\" href=\"javascript:void(0);\" onclick=\"javascript:moveMainDetail('SCTM00198131' , this);\" style=\"width: 100%;\">이달 중 계절관리제 세부 방안 공개</a>, <a class=\"txt\" href=\"javascript:void(0);\" onclick=\"javascript:moveMainDetail('SCTM00198148' , this);\" style=\"width: 100%;\">온실가스 먹는 미생물의 움직임 규명</a>, <a class=\"txt\" href=\"javascript:void(0);\" onclick=\"javascript:moveMainDetail('SCTM00198096' , this);\" style=\"width: 100%;\">최초의 시간여행 SF는 '마하바라타'</a>, <a class=\"txt\" href=\"javascript:void(0);\" onclick=\"javascript:moveMainDetail('SCTM00198038' , this);\" style=\"width: 100%;\">생각만으로 군용 드론을 조종한다?</a>, <a class=\"txt\" href=\"javascript:void(0);\" onclick=\"javascript:moveMainDetail('SCTM00198077' , this);\" style=\"width: 100%;\">환경문제 조기 대응 기술 개발 주력</a>, <a class=\"txt\" href=\"javascript:void(0);\" onclick=\"javascript:moveMainDetail('SCTM00198105' , this);\" style=\"width: 100%;\">육식 수각공룡 먹이 기반 넓었다</a>, <a class=\"txt\" href=\"javascript:void(0);\" onclick=\"javascript:moveMainDetail('SCTM00198083' , this);\" style=\"width: 100%;\">미래 과학‧수학 이끌 주인공 모였다</a>, <a class=\"txt\" href=\"javascript:void(0);\" onclick=\"javascript:moveMainDetail('SCTM00198116' , this);\" style=\"width: 100%;\">흡혈박쥐, 환경 바뀌어도 '우정' 유지</a>, <a class=\"txt\" href=\"javascript:void(0);\" onclick=\"javascript:moveMainDetail('SCTM00198059' , this);\" style=\"width: 100%;\">태양계 밖서 온 혜성…물 갖고 있어</a>, <a class=\"txt\" href=\"javascript:void(0);\" onclick=\"javascript:moveMainDetail('SCTM00198045' , this);\" style=\"width: 100%;\">3D 프린팅 제조 혁신 방안 논의</a>, <a class=\"txt\" href=\"javascript:void(0);\" onclick=\"javascript:moveMainDetail('SCTM00198046' , this);\" style=\"width: 100%;\">배아 발달의 '블랙박스' 열다</a>, <a class=\"trend_tab_btn\" data-type=\"ECMS\" href=\"javascript:void(0);\">과학향기</a>, <a class=\"link\" href=\"javascript:void(0);\" onclick=\"javascript:moveMainDetail('6043' , this);\">\n",
      "<div class=\"thum_box\">\n",
      "<img alt=\"코골이, 무서운 질환으로 이어질 수 있어\" onerror=\"this.src='/common/images/main/scon_img1.png'\" src=\"http://scent.ndsl.kr//uploadfile/ecms/media/2019/11/2d989e7fb80872bca7a74a2edc8ceae4.png\"/>\n",
      "<span class=\"box_border\"></span>\n",
      "</div>\n",
      "<div class=\"txt_box\">\n",
      "<p><strong>코골이, 무서운 질환으로 이어질 수 있어</strong>코골이는 피곤해서, 나이가 들어서 자연스레 생기는 신체 변화로, 단지 주변 사람을 괴롭게 하는 버릇으로 알고 있는 사람이 많다. 물론 대개는 그렇지만 코골이가 생명을 위협할 수도 있다.   코골이, 수면무호흡으로 이어진다   코를 고는 사람 중 다수가 수면무호흡 증상을 보인다. 원인이 코골이와 비슷하기 때문인데, 코골이가 기도가 좁아져서 나타나는 현상이라면 수면무호흡은 좁은 기도가 더 좁아지면서 숨길이 막혀 호흡이 일시적으로 멈추는 증상이다. 평균 10초 이상 숨을 쉬지 않는 무호흡이 시간당 5회 이상 또는 7시간 ...</p>\n",
      "</div>\n",
      "</a>, <a class=\"link_box\" href=\"javascript:void(0);\" onclick=\"javascript:moveMainDetail('6040' , this);\" style=\"width: 100%;\" title=\"전자담배 주의보, 폐질환 환자가 늘어간다\">전자담배 주의보, 폐질환 환자가 늘어간다</a>, <a class=\"link_box\" href=\"javascript:void(0);\" onclick=\"javascript:moveMainDetail('6037' , this);\" style=\"width: 100%;\" title=\"늦잠 자는 이유, 의지만의 문제가 아니야\">늦잠 자는 이유, 의지만의 문제가 아니야</a>, <a class=\"link_box\" href=\"javascript:void(0);\" onclick=\"javascript:moveMainDetail('6034' , this);\" style=\"width: 100%;\" title=\"일본의 원전 오염수 해양 유출, 괜찮은 걸까?\">일본의 원전 오염수 해양 유출, 괜찮은 걸까?</a>, <a class=\"link_box\" href=\"javascript:void(0);\" onclick=\"javascript:moveMainDetail('6030' , this);\" style=\"width: 100%;\" title=\"지문은 도대체 왜 생겼을까?\">지문은 도대체 왜 생겼을까?</a>, <a class=\"link_box\" href=\"javascript:void(0);\" onclick=\"javascript:moveMainDetail('6027' , this);\" style=\"width: 100%;\" title=\"나노기술의 상용화를 글로벌 나노 축제, 나노 테크 재팬(1)\">나노기술의 상용화를 글로벌 나노 축제, 나노 테크 재팬(1)</a>, <a class=\"link_box\" href=\"javascript:void(0);\" onclick=\"javascript:moveMainDetail('6024' , this);\" style=\"width: 100%;\" title=\"급속냉동식품은 어떻게 탄생했을까?\">급속냉동식품은 어떻게 탄생했을까?</a>, <a class=\"link_box\" href=\"javascript:void(0);\" onclick=\"javascript:moveMainDetail('6021' , this);\" style=\"width: 100%;\" title=\"[데이터 과학-2] 인공지능에게 필요한 데이터는 특별하다!\">[데이터 과학-2] 인공지능에게 필요한 데이터는 특별하다!</a>, <a class=\"link_box\" href=\"javascript:void(0);\" onclick=\"javascript:moveMainDetail('6018' , this);\" style=\"width: 100%;\" title=\"소중한 지구, 해양 쓰레기로 몸살을 앓고 있다\">소중한 지구, 해양 쓰레기로 몸살을 앓고 있다</a>, <a class=\"link_box\" href=\"javascript:void(0);\" onclick=\"javascript:moveMainDetail('6015' , this);\" style=\"width: 100%;\" title=\"폐사율 100%, 아프리카돼지열병의 모든 것\">폐사율 100%, 아프리카돼지열병의 모든 것</a>, <a class=\"link_box\" href=\"javascript:void(0);\" onclick=\"javascript:moveMainDetail('6010' , this);\" style=\"width: 100%;\" title=\"인삼보다 좋다는 가을무의 영양 과학\">인삼보다 좋다는 가을무의 영양 과학</a>, <a class=\"link_box\" href=\"javascript:void(0);\" onclick=\"javascript:moveMainDetail('6009' , this);\" style=\"width: 100%;\" title=\"현실과 소통하는 가상 세계, 디지털 트윈이 뜬다!\">현실과 소통하는 가상 세계, 디지털 트윈이 뜬다!</a>, <a class=\"link_box\" href=\"javascript:void(0);\" onclick=\"javascript:moveMainDetail('6006' , this);\" style=\"width: 100%;\" title=\"소금의 두 얼굴\">소금의 두 얼굴</a>, <a class=\"trend_tab_btn\" data-type=\"ITREND\" href=\"javascript:void(0);\">아이콘</a>, <a class=\"txt\" href=\"javascript:void(0);\" onclick=\"javascript:moveMainDetail('IWT201911001', this);\" style=\"width: 100%;\">WHO, 국제연합기구 중 처음으로 cOAlition S 참여</a>, <a class=\"txt\" href=\"javascript:void(0);\" onclick=\"javascript:moveMainDetail('IWT201910011', this);\" style=\"width: 100%;\">스웨덴왕립도서관(NLS), 오픈액세스에 대한 교육용 동영상 공개</a>, <a class=\"txt\" href=\"javascript:void(0);\" onclick=\"javascript:moveMainDetail('IWT201910009', this);\" style=\"width: 100%;\">SPARC, 2018-2019 교육자료공개(OER) 현황보고서 공개</a>, <a class=\"txt\" href=\"javascript:void(0);\" onclick=\"javascript:moveMainDetail('IWT201910010', this);\" style=\"width: 100%;\">일본 NAIST 도서관, 오픈액세스 정책 발표</a>, <a class=\"txt\" href=\"javascript:void(0);\" onclick=\"javascript:moveMainDetail('IWT201910008', this);\" style=\"width: 100%;\">DEAL 프로젝트와 Springer Nature, OA 계약에 관한 MoU 체결</a>, <a class=\"txt\" href=\"javascript:void(0);\" onclick=\"javascript:moveMainDetail('IWT201910004', this);\" style=\"width: 100%;\">COS, 교육학 분야의 프리프린트 서비스 `EdArXiv`를 공개</a>, <a class=\"txt\" href=\"javascript:void(0);\" onclick=\"javascript:moveMainDetail('IWT201910006', this);\" style=\"width: 100%;\">OA 구축에 대한 요구사항과 원칙을 정리한 백서</a>, <a class=\"txt\" href=\"javascript:void(0);\" onclick=\"javascript:moveMainDetail('IWT201910007', this);\" style=\"width: 100%;\">OA 출판 서비스 및 비용의 투명성 제고를 위한 프레임 워크 구축</a>, <a class=\"txt\" href=\"javascript:void(0);\" onclick=\"javascript:moveMainDetail('IWT201910002', this);\" style=\"width: 100%;\">Wiley, 미국 버지니아 연구도서관 컨소시엄과 OA 출판에 관한 계약 체결</a>, <a class=\"txt\" href=\"javascript:void(0);\" onclick=\"javascript:moveMainDetail('IWT201910001', this);\" style=\"width: 100%;\">NARCIS에 공개된 OA 출판물, 70만건 돌파</a>, <a class=\"txt\" href=\"javascript:void(0);\" onclick=\"javascript:moveMainDetail('IWT201909005', this);\" style=\"width: 100%;\">세계 리포지터리 순위 공개(2019년 7월 기준)</a>, <a class=\"txt\" href=\"javascript:void(0);\" onclick=\"javascript:moveMainDetail('IWT201909003', this);\" style=\"width: 100%;\">홋카이도 대학교 도서관, 오픈액세스 정책 발표</a>, <a class=\"txt\" href=\"javascript:void(0);\" onclick=\"javascript:moveMainDetail('IWT201909002', this);\" style=\"width: 100%;\">NIH, figshare와 제휴하여 데이터 리포지터리 `NIH Figshare` 런칭</a>, <a class=\"txt\" href=\"javascript:void(0);\" onclick=\"javascript:moveMainDetail('IWT201909001', this);\" style=\"width: 100%;\">2019 국제 오픈액세스 주간 테마 : `Open for Whom? Equity in Open Knowledge`</a>, <a class=\"txt\" href=\"javascript:void(0);\" onclick=\"javascript:moveMainDetail('IWT201908021', this);\" style=\"width: 100%;\">Taylor &amp; Francis, SDGs Online 플랫폼 공개</a>, <a class=\"txt\" href=\"javascript:void(0);\" onclick=\"javascript:moveMainDetail('IWT201908022', this);\" style=\"width: 100%;\">오스트리아, ORCID 컨소시엄 설립</a>, <a class=\"txt\" href=\"javascript:void(0);\" onclick=\"javascript:moveMainDetail('IWT201908023', this);\" style=\"width: 100%;\">Digital Science사, 영국 연구기관의 OA에 영향을 주는 요인 발표</a>, <a class=\"txt\" href=\"javascript:void(0);\" onclick=\"javascript:moveMainDetail('IWT201908019', this);\" style=\"width: 100%;\">RDA와 COAR, 연구 데이터 관리의 국제적인 발전을 위한 협력 발표</a>, <a class=\"txt\" href=\"javascript:void(0);\" onclick=\"javascript:moveMainDetail('IWT201908020', this);\" style=\"width: 100%;\">케임브리지대학출판사(CUP), 오픈리서치 플랫폼 `Cambridge Open Engage` 발표</a>, <a class=\"txt\" href=\"javascript:void(0);\" onclick=\"javascript:moveMainDetail('IWT201908018', this);\" style=\"width: 100%;\">오픈액세스와 Plan S에 대한 학회의 대응 및 비즈니스 모델</a>, <a class=\"txt\" href=\"javascript:void(0);\" onclick=\"javascript:moveMainDetail('IWT201908015', this);\" style=\"width: 100%;\">cOAlition S, Plan S 실현을 위한  9가지 우선 순위 공개</a>, <a class=\"txt\" href=\"javascript:void(0);\" onclick=\"javascript:moveMainDetail('IWT201908017', this);\" style=\"width: 100%;\">arXiv, 개정된 Plan S 준수를 위한 기술적 검토사항 공표</a>, <a class=\"btn_more\" href=\"javascript:void(0);\" onclick=\"fnTrendMore();\">더보기</a>, <a href=\"/ndsl/member/mberuseeStplat.do;jsessionid=SqwBwdbW1jgwFAi1kRXnBOiSp5g82L5lE88FlO4EfH5oJqwpynVBuIdVTMT3v6tp.al228_servlet_engine11\" title=\"회원가입\"><span class=\"ico_m1\"></span>회원가입</a>, <a href=\"javascript:void(0);\" onclick=\"fncIdpwSearchModal(this); return false;\" title=\"아이디/비밀번호 찾기\"><span class=\"ico_m2\"></span>아이디/비밀번호 찾기</a>, <a href=\"http://www.ntis.go.kr/issuernd/main/issueDtl.do?searchTopicNo=201911040001\" style=\"margin-top:10px;\" target=\"_blank\">그래핀</a>, <a href=\"http://www.ntis.go.kr/issuernd/main/issueDtl.do?searchTopicNo=201910290001\" target=\"_blank\">자율주행버스</a>, <a href=\"http://www.ntis.go.kr/issuernd/main/issueDtl.do?searchTopicNo=201910240001\" target=\"_blank\">인공<br>장기</br></a>, <a href=\"http://www.ntis.go.kr/issuernd/main/issueDtl.do?searchTopicNo=201911060001\" target=\"_blank\">대장암<br/>세포</a>, <a href=\"http://www.ntis.go.kr/issuernd/main/issueDtl.do?searchTopicNo=201910310001\" target=\"_blank\">방사성<br/>폐기물</a>, <a class=\"btn_more\" href=\"http://www.ntis.go.kr/issuernd/main/issueMain.do\" target=\"_blank\">더보기</a>, <a class=\"txt\" href=\"/ndsl/notice/noticeDetail.do;jsessionid=SqwBwdbW1jgwFAi1kRXnBOiSp5g82L5lE88FlO4EfH5oJqwpynVBuIdVTMT3v6tp.al228_servlet_engine11?seq=7818\">[제6회 Korea Data-Biz Trend] 더 나은 교육 혁신, 데이터로 답하다</a>, <a class=\"txt\" href=\"/ndsl/notice/noticeDetail.do;jsessionid=SqwBwdbW1jgwFAi1kRXnBOiSp5g82L5lE88FlO4EfH5oJqwpynVBuIdVTMT3v6tp.al228_servlet_engine11?seq=7778\">한국과학기술정보연구원 개원기념일(5월 20일) 휴무 안내</a>, <a class=\"txt\" href=\"/ndsl/notice/noticeDetail.do;jsessionid=SqwBwdbW1jgwFAi1kRXnBOiSp5g82L5lE88FlO4EfH5oJqwpynVBuIdVTMT3v6tp.al228_servlet_engine11?seq=7758\">2019년 중소기업 RnD기획 지원사업(1차)</a>, <a class=\"txt\" href=\"/ndsl/notice/noticeDetail.do;jsessionid=SqwBwdbW1jgwFAi1kRXnBOiSp5g82L5lE88FlO4EfH5oJqwpynVBuIdVTMT3v6tp.al228_servlet_engine11?seq=7738\">2019년 과편협 학술대회 안내</a>, <a class=\"txt\" href=\"/ndsl/notice/noticeDetail.do;jsessionid=SqwBwdbW1jgwFAi1kRXnBOiSp5g82L5lE88FlO4EfH5oJqwpynVBuIdVTMT3v6tp.al228_servlet_engine11?seq=7718\">중국 학술논문 베타서비스 오픈안내</a>, <a class=\"btn_more\" href=\"/ndsl/notice/noticeList.do\">더보기</a>, <a class=\"link lft\" href=\"/ndsl/about/intrcn/ndslIntrcn.do\">\n",
      "<img alt=\"about NDSL - 과학기술정보 서비스 플랫폼\" src=\"../../common/images/main/link_aboutndsl.png\"/>\n",
      "<span class=\"box_border\"></span>\n",
      "</a>, <a class=\"link rgt\" href=\"http://nos.ndsl.kr/\">\n",
      "<img alt=\"NOS NDSL Open Service - 과학기술분야 개방형 유통 플랫폼\" src=\"../../common/images/main/link_nos.png\"/>\n",
      "<span class=\"box_border\"></span>\n",
      "</a>, <a href=\"/ndsl/cs/csvoice/cstmrSoundMainim.do\">\n",
      "<div class=\"help_box\">\n",
      "<h2><img alt=\"NDSL고객센터(ARS)\" src=\"../../common/images/main/h2_help.png\"/></h2>\n",
      "<p class=\"txt_call\">[무료]  080-969-4114   [유료]  02-969-4114</p>\n",
      "<p class=\"txt\">운영시간 09:00 ~ 18:00  (토요일/공휴일 휴무)</p>\n",
      "<span class=\"box_border\"></span>\n",
      "</div>\n",
      "</a>, <a class=\"link_box\" href=\"javascript:void(0);\" onclick=\"javascript:fncPinLogInsert('P23', this, 'F', 'fncCurationAccount(\\'\\')'); return false;\">\n",
      "<div class=\"title_box\">\n",
      "<span class=\"ico\"></span>\n",
      "<h2 class=\"con_tit\" style=\"letter-spacing:-1px;\">PIN 서비스 바로가기</h2>\n",
      "</div>\n",
      "</a>, <a href=\"/ndsl/about/contents/article/dmstcarticleintrcn.do\"><span class=\"tit\">논문</span><span class=\"count\"><strong>96,986,377</strong>건</span></a>, <a href=\"/ndsl/about/contents/patent/patentintrcn.do\"><span class=\"tit\">특허</span><span class=\"count\"><strong>38,402,416</strong>건</span></a>, <a href=\"/ndsl/about/contents/report/reportintrcn.do\"><span class=\"tit\">보고서</span><span class=\"count\"><strong>325,865</strong>건</span></a>, <a href=\"/ndsl/about/contents/trend/trendintrcn.do\"><span class=\"tit\">동향</span><span class=\"count\"><strong>53,208</strong>건</span></a>, <a href=\"/ndsl/about/contents/journal/jrnlintrcn.do\"><span class=\"tit\">저널/프로시딩</span><span class=\"count\"><strong>388,052</strong>건</span></a>, <a href=\"/ndsl/about/contents/rsrch/rsrchmanintrcn.do\"><span class=\"tit\">연구자</span><span class=\"count\"><strong>1,132,376</strong>건</span></a>, <a href=\"/ndsl/about/contents/rrcs/rrcsintrcn.do\"><span class=\"tit\">연구기관</span><span class=\"count\"><strong>78,303</strong>건</span></a>, <a href=\"http://www.kisti.re.kr/\" target=\"_blank\" title=\"kisti한국과학기술정보연구원\">kisti</a>, <a href=\"javascript:void(0);\" onclick=\"fncUseModalOpen();return false;\" title=\"이용약관\">이용약관</a>, <a href=\"javascript:void(0);\" onclick=\"fncIndvInfoModalOpen('2_5');return false;\" title=\"개인정보처리방침\"><strong>개인정보처리방침</strong></a>, <a href=\"http://www.kisti.re.kr/intro/directions/pageView/20\" target=\"_blank\">찾아오시는길</a>, <a href=\"javascript:void(0);\" onclick=\"fncEmailModalOpen();\" title=\"이메일무단수집거부\">이메일무단수집거부</a>, <a href=\"http://www.kisti.re.kr/intro/introduce/pageView/14\" target=\"_blank\">기관소개</a>, <a href=\"http://icon.ndsl.kr/\" target=\"_blank\" title=\"정보 서비스 동향지식포털\">정보 서비스 동향지식포털</a>, <a href=\"http://nos.ndsl.kr/\" target=\"_blank\" title=\"NOS\">NDSL 오픈서비스</a>, <a href=\"http://www.koreascience.or.kr/\" target=\"_blank\" title=\"koreascience\">koreascience</a>, <a href=\"http://society.kisti.re.kr/\" target=\"_blank\" title=\"koreascience\">과학기술학회마을</a>, <a href=\"http://mirian.kisti.re.kr/\" target=\"_blank\" title=\"Mirian\">Mirian</a>, <a href=\"http://www.kesli.or.kr/\" target=\"_blank\" title=\"KESLI\">KESLI</a>, <a href=\"http://kpubs.org/\" target=\"_blank\" title=\"kpubs\">KPUBS</a>, <a href=\"http://www.reseat.re.kr/\" target=\"_blank\" title=\"ReSeat\">ReSeat</a>, <a href=\"http://www.nktech.net/\" target=\"_blank\" title=\"NK테크\">NK테크</a>, <a href=\"http://www.kosen21.org/\" target=\"_blank\" title=\"KOSEN\">KOSEN</a>, <a href=\"http://astinet.kr/\" target=\"_blank\" title=\"ASTI\">ASTI</a>, <a href=\"http://ntis.go.kr/\" target=\"_blank\" title=\"국가과학기술지식정보서비스\">국가과학기술지식정보서비스</a>, <a href=\"http://www.creativekorea.or.kr/\" target=\"_blank\" title=\"창조경제타운\">창조경제타운</a>, <a href=\"http://portal.koreascience.or.kr/index.jsp\" target=\"_blank\" title=\"KSP\">KSP</a>, <a href=\"http://www.msip.go.kr/\" target=\"_blank\" title=\"과학기술정보통신부\">과학기술정보통신부</a>, <a href=\"http://www.nl.go.kr/\" target=\"_blank\" title=\"국립중앙도서관\">국립중앙도서관</a>, <a href=\"http://www.nanet.go.kr/\" target=\"_blank\" title=\"국회도서관\">국회도서관</a>, <a href=\"http://www.kofac.re.kr/\" target=\"_blank\" title=\"한국과학창의재단\">한국과학창의재단</a>, <a href=\"http://www.riss.kr/\" target=\"_blank\" title=\"RISS한국교육학술연구원\">RISS한국교육학술연구원</a>, <a href=\"http://www.kdb.or.kr/\" target=\"_blank\" title=\"한국데이터베이스진흥원\">한국데이터베이스진흥원</a>, <a href=\"http://www.nia.or.kr/\" target=\"_blank\" title=\"NIA\">한국정보문화진흥원</a>, <a href=\"http://www.bl.uk/\" target=\"_blank\" title=\"BL\">BL</a>, <a href=\"http://cat.cisti.nrc.ca/\" target=\"_blank\" title=\"CISTI\">CISTI</a>, <a href=\"http://www.nrf.re.kr/\" target=\"_blank\" title=\"한국연구재단\">한국연구재단</a>, <a href=\"http://www.icsti.org/\" target=\"_blank\" title=\"ICSTI\">ICSTI</a>, <a href=\"http://www.istic.ac.cn/\" target=\"_blank\" title=\"ISTIC\">ISTIC</a>, <a href=\"http://www.inist.fr/\" target=\"_blank\" title=\"INIST\">INIST</a>, <a href=\"http://www.jst.go.jp\" target=\"_blank\" title=\"JST\">JST</a>, <a href=\"http://las.ac.cn/\" target=\"_blank\" title=\"LCAS\">LCAS</a>, <a href=\"http://www.narcis.info\" target=\"_blank\" title=\"NARCIS\">NARCIS</a>, <a href=\"http://www.nii.ac.jp\" target=\"_blank\" title=\"NII\">NII</a>, <a href=\"http://www.oclc.org\" target=\"_blank\" title=\"OCLC\">OCLC</a>, <a href=\"/common/images/common/ISO10002.jpg\" target=\"_blank\"><img alt=\"ISO 10002\" src=\"/common/images/common/fot_mark1_ty2.png\"><span>ISO 10002</span></img></a>, <a href=\"https://www.dqc.or.kr/quality_certification/administrative/standard/\" target=\"_blank\"><img alt=\"데이터관리인증\" src=\"/common/images/common/fot_mark4_ty2.png\"><span>데이터관리인증</span></img></a>, <a href=\"javascript:void(0);\">모바일보기</a>, <a href=\"/ndsl/member/mberuseeStplat.do;jsessionid=SqwBwdbW1jgwFAi1kRXnBOiSp5g82L5lE88FlO4EfH5oJqwpynVBuIdVTMT3v6tp.al228_servlet_engine11\" title=\"회원가입\">회원가입</a>, <a href=\"javascript:void(0);\" onclick=\"fncIdpwSearchModal(this); return false;\" title=\"ID/PW 찾기\">ID/PW 찾기</a>, <a href=\"/ndsl/myndsl/passchk.do;jsessionid=SqwBwdbW1jgwFAi1kRXnBOiSp5g82L5lE88FlO4EfH5oJqwpynVBuIdVTMT3v6tp.al228_servlet_engine11\" title=\"회원정보관리\">회원정보관리</a>, <a href=\"/ndsl/myndsl/mnDdsList.do;jsessionid=SqwBwdbW1jgwFAi1kRXnBOiSp5g82L5lE88FlO4EfH5oJqwpynVBuIdVTMT3v6tp.al228_servlet_engine11\" title=\"원문신청정보\">원문신청 정보</a>, <a href=\"/ndsl/myndsl/bkmk/interstKeywordList.do;jsessionid=SqwBwdbW1jgwFAi1kRXnBOiSp5g82L5lE88FlO4EfH5oJqwpynVBuIdVTMT3v6tp.al228_servlet_engine11\" title=\"관심사항관리\">관심사항 관리</a>, <a href=\"/ndsl/myndsl/mnBasket.do;jsessionid=SqwBwdbW1jgwFAi1kRXnBOiSp5g82L5lE88FlO4EfH5oJqwpynVBuIdVTMT3v6tp.al228_servlet_engine11\" title=\"장바구니\">장바구니 (<span style=\"font-weight: 600; color: #0059b0;\">건</span>) </a>, <a href=\"javascript:void(0);\" onclick=\"fncSelect(this,'');return false;\">전체</a>, <a href=\"javascript:void(0);\" id=\"t_scholar\" onclick=\"fncSelect(this,'scholar');return false;\">논문</a>, <a href=\"javascript:void(0);\" id=\"t_patent\" onclick=\"fncSelect(this,'patent');return false;\">특허</a>, <a href=\"javascript:void(0);\" id=\"t_report\" onclick=\"fncSelect(this,'report');return false;\">보고서</a>, <a href=\"javascript:void(0);\" id=\"t_radar\" onclick=\"fncSelect(this,'radar');return false;\">동향</a>, <a href=\"javascript:void(0);\" id=\"t_journal\" onclick=\"fncSelect(this,'journal');return false;\">저널/프로시딩</a>, <a href=\"javascript:void(0);\" id=\"t_author\" onclick=\"fncSelect(this,'author');return false;\">연구자</a>, <a href=\"javascript:void(0);\" id=\"t_organ\" onclick=\"fncSelect(this,'organ');return false;\">연구기관</a>, <a href=\"javascript:void(0);\" onclick=\"javascript:fncCurationAccount(''); return false;\" title=\"PIN(Profiling service In NDSL) 서비스 \"><span class=\"ico_ndsl ico_tmenu12 ico_new\"></span>PIN 서비스</a>, <a href=\"/ndsl/about/intrcn/ndslIntrcn.do;jsessionid=SqwBwdbW1jgwFAi1kRXnBOiSp5g82L5lE88FlO4EfH5oJqwpynVBuIdVTMT3v6tp.al228_servlet_engine11\" title=\"about\"><span class=\"ico_ndsl ico_tmenu2\"></span>About</a>, <a href=\"/ndsl/main/siteMap.do;jsessionid=SqwBwdbW1jgwFAi1kRXnBOiSp5g82L5lE88FlO4EfH5oJqwpynVBuIdVTMT3v6tp.al228_servlet_engine11\" title=\"사이트맵\"><span class=\"ico_ndsl ico_tmenu3\"></span>사이트맵</a>, <a href=\"/ndsl/cs/csvoice/cstmrSoundMainim.do;jsessionid=SqwBwdbW1jgwFAi1kRXnBOiSp5g82L5lE88FlO4EfH5oJqwpynVBuIdVTMT3v6tp.al228_servlet_engine11\" title=\"고객센터\"><span class=\"ico_ndsl ico_tmenu4\"></span>고객센터</a>, <a href=\"/ndsl/notice/noticeList.do;jsessionid=SqwBwdbW1jgwFAi1kRXnBOiSp5g82L5lE88FlO4EfH5oJqwpynVBuIdVTMT3v6tp.al228_servlet_engine11\" title=\"공지사항\"><span class=\"ico_ndsl ico_tmenu5\"></span>공지사항</a>, <a href=\"/ndsl/issueNdsl/issueNdslList.do;jsessionid=SqwBwdbW1jgwFAi1kRXnBOiSp5g82L5lE88FlO4EfH5oJqwpynVBuIdVTMT3v6tp.al228_servlet_engine11\" title=\"이슈&amp;NDSL\"><span class=\"ico_ndsl ico_tmenu6\"></span>이슈&amp;NDSL</a>, <a href=\"http://scent.ndsl.kr\" target=\"_blank\" title=\"과학향기\"><span class=\"ico_ndsl ico_tmenu7\"></span>과학향기</a>, <a href=\"http://icon.ndsl.kr\" target=\"_blank\" title=\"iCON\"><span class=\"ico_ndsl ico_tmenu9\"></span>iCON</a>, <a href=\"javascript:void(0);\" onclick=\"fncDBStatusOpen(); return false;\" title=\"DB현황\"><span class=\"ico_ndsl ico_tmenu8\"></span>DB현황</a>, <a href=\"javascript:void(0);\" onclick=\"fncGoKardUrl(); return false;\" title=\"성과물관리\"><span class=\"ico_ndsl ico_tmenu11 ico_new\"></span>내 성과물관리</a>, <a class=\"bx-pager-link\" data-slide-index=\"0\" href=\"javascript:void(0);\">추천콘텐츠</a>, <a class=\"bx-pager-link\" data-slide-index=\"1\" href=\"javascript:void(0);\">이용현황 및 접속이력</a>, <a class=\"bx-pager-link\" data-slide-index=\"2\" href=\"javascript:void(0);\">히스토리</a>, <a class=\"bx-pager-link\" data-slide-index=\"3\" href=\"javascript:void(0);\">관심키워드</a>, <a class=\"bx-pager-link\" data-slide-index=\"4\" href=\"javascript:void(0);\">서비스 페이지</a>, <a data-slide-index=\"0\" href=\"javascript:void(0);\">추천콘텐츠<span class=\"ico_arr\"></span></a>, <a data-slide-index=\"1\" href=\"javascript:void(0);\">이용현황 및 접속이력<span class=\"ico_arr\"></span></a>, <a data-slide-index=\"2\" href=\"javascript:void(0);\">히스토리<span class=\"ico_arr\"></span></a>, <a data-slide-index=\"3\" href=\"javascript:void(0);\">관심키워드<span class=\"ico_arr\"></span></a>, <a data-slide-index=\"4\" href=\"javascript:void(0);\">서비스 페이지<span class=\"ico_arr\"></span></a>, <a class=\"alink\" href=\"https://scienceon.kisti.re.kr\" style=\"text-decoration: underline; color: dodgerblue; font-weight: 500; font-size: 13px;\" target=\"_blank\">ScienceON 알아보기</a>, <a href=\"https://scienceon.kisti.re.kr/main/personInfo.do\" target=\"_blank\"><span style=\"color: #003879; font-weight: bold\">ㆍ Science<span style=\"color:red\">ON</span></span> 개인정보처리방침(새창 열림)</a>, <a href=\"https://scienceon.kisti.re.kr/main/useInfo.do\" target=\"_blank\"><span style=\"color: #003879; font-weight: bold\">ㆍ Science<span style=\"color:red\">ON</span></span> 약관보기(새창 열림)</a>, <a class=\"abtn\" id=\"btnScienceJoin\" onclick=\"fncSciJoin('new');\" style=\"display: inline-block; margin: 10px; padding: 5px 30px; border: 2px solid red; border-radius: 3px; font-size: 16px; font-weight: 500; color: #fff; background: red; box-shadow: 0 2px 1px rgba(0, 0, 0, .4); cursor: pointer;\">회원가입</a>, <a class=\"alink\" href=\"https://scienceon.kisti.re.kr\" style=\"text-decoration: underline; color: dodgerblue; font-weight: 500; font-size: 13px;\" target=\"_blank\">ScienceON 알아보기</a>, <a class=\"abtn\" onclick=\"fncSciJoin('link');\" style=\"display: inline-block; margin: 10px; padding: 5px 30px; border: 2px solid red; border-radius: 3px; font-size: 16px; font-weight: 500; color: #fff; background: red; box-shadow: 0 2px 1px rgba(0, 0, 0, .4); cursor: pointer;\">확인</a>]\n"
     ]
    }
   ],
   "source": [
    "### [<a class=\"sister\" href=\"http://example.com/elsie\" id=\"link1\">Elsie</a>,\n",
    "###  <a class=\"sister\" href=\"http://example.com/lacie\" id=\"link2\">Lacie</a>,\n",
    "###  <a class=\"sister\" href=\"http://example.com/tillie\" id=\"link3\">Tillie</a>]\n",
    "print(soup.find_all('a'))"
   ]
  },
  {
   "cell_type": "code",
   "execution_count": 28,
   "metadata": {},
   "outputs": [
    {
     "name": "stdout",
     "output_type": "stream",
     "text": [
      "None\n"
     ]
    }
   ],
   "source": [
    "### <a class=\"sister\" href=\"http://example.com/tillie\" id=\"link3\">Tillie</a>\n",
    "print(soup.find(id=\"link3\"))"
   ]
  },
  {
   "cell_type": "code",
   "execution_count": 26,
   "metadata": {},
   "outputs": [],
   "source": [
    "#for link in soup.find_all('a'):\n",
    "    #print(link.get('href'))"
   ]
  },
  {
   "cell_type": "code",
   "execution_count": 25,
   "metadata": {},
   "outputs": [],
   "source": [
    "#print(soup.get_text())"
   ]
  },
  {
   "cell_type": "code",
   "execution_count": null,
   "metadata": {},
   "outputs": [],
   "source": []
  }
 ],
 "metadata": {
  "kernelspec": {
   "display_name": "Python 3",
   "language": "python",
   "name": "python3"
  },
  "language_info": {
   "codemirror_mode": {
    "name": "ipython",
    "version": 3
   },
   "file_extension": ".py",
   "mimetype": "text/x-python",
   "name": "python",
   "nbconvert_exporter": "python",
   "pygments_lexer": "ipython3",
   "version": "3.7.4"
  }
 },
 "nbformat": 4,
 "nbformat_minor": 2
}
