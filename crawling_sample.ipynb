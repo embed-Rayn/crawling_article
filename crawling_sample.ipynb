{
 "cells": [
  {
   "cell_type": "code",
   "execution_count": 47,
   "metadata": {},
   "outputs": [],
   "source": [
    "from bs4 import BeautifulSoup\n",
    "import requests\n",
    "import json\n",
    "def url2json(URL):\n",
    "    ###방법2\n",
    "    ###html 문서를 가져옵니다\n",
    "    res = requests.get(target_url)\n",
    "    res = res.text \n",
    "\n",
    "    ###html 문서를 파싱합니다.\n",
    "    soup = BeautifulSoup(res, 'html.parser')\n",
    "    \n",
    "    ###논문 제목을 가져옵니다.\n",
    "    paper_title = str(soup.title.string)\n",
    "    print(paper_title)\n",
    "    \n",
    "    ###논문 abstract를 가져옵니다.\n",
    "    abstract_background = soup.find(id=\"__p1\").text\n",
    "    abstract_objective = soup.find(id=\"__p2\").text\n",
    "    abstract_method = soup.find(id=\"__p3\").text\n",
    "    abstract_result = soup.find(id=\"__p4\").text\n",
    "    abstract_conclusion = soup.find(id=\"__p5\").text\n",
    "    \n",
    "    ###논문 키워드를 가져옵니다.\n",
    "    keywords = soup.find_all(\"span\", class_=\"kwd-text\")[0].text.split(\",\")\n",
    "    \n",
    "    ###json 파일로 변환\n",
    "    abstract_dict = {}\n",
    "    doc_dict={}\n",
    "    abstract_dict[\"background\"] = abstract_background\n",
    "    abstract_dict[\"objective\"] = abstract_objective\n",
    "    abstract_dict[\"method\"] = abstract_method\n",
    "    abstract_dict[\"result\"] = abstract_result\n",
    "    abstract_dict[\"conclusion\"] = abstract_conclusion\n",
    "    doc_dict[\"title\"] = paper_title\n",
    "    doc_dict[\"abstract\"] = abstract_dict\n",
    "    doc_dict[\"keyword\"] = keywords\n",
    "    \n",
    "    return json.dumps(doc_dict)"
   ]
  },
  {
   "cell_type": "code",
   "execution_count": 45,
   "metadata": {},
   "outputs": [
    {
     "name": "stdout",
     "output_type": "stream",
     "text": [
      "{\"title\": \"Treatment of Melasma with Pulsed-Dye Laser and 1,064-nm Q-Switched Nd:YAG Laser: A Split-Face Study\", \"abstract\": {\"background\": \"Melasma is an acquired pigmentary disorder that is often therapeutically challenging. Recent evidence suggests that vascular abnormalities are involved in melasma pathogenesis. Pulsed-dye laser (PDL) is considered as standard therapy for vascular lesions.\", \"objective\": \"To assess the efficacy of PDL combined with low-fluence Q-switched Nd:YAG laser (QSNY) in the treatment of melasma.\", \"method\": \"Seventeen melasma patients were enrolled in this study. All subjects were treated with a total of nine QSNY treatment sessions at one-week intervals. Three sessions of PDL were additionally performed immediately after QSNY treatment on the half of the face at baseline, week 4, and week 8. The melasma area and the severity index (MASI) score was calculated at the baseline, one week after the last treatment (week 9), as well as at the follow-up 8 weeks after the last treatment (week 16). Dermoscopic images at the baseline were classified as to whether the visibly widened capillaries were detected or not.\", \"result\": \"MASI scores on the PDL+QSNY and QSNY side decreased significantly during the study period. There was no significant difference in the MASI score change between both sides in all periods. However, seven patients who had visibly widened capillaries on dermoscopy showed significant difference in both sides in terms of changes in the MASI score during treatment.\", \"conclusion\": \"PDL combined with QSNY may be considered as a safe and effective treatment for melasma patients who show visibly widened capillaries on dermoscopy.\"}, \"keyword\": [\"Dermoscopy\", \" Melasma\", \" Pulsed dye lasers\", \" Q-switched lasers\"]}\n"
     ]
    }
   ],
   "source": [
    "target_url = 'https://www.ncbi.nlm.nih.gov/pmc/articles/PMC5762458/'\n",
    "json_file = url2json(target_url)\n",
    "print(json_file)"
   ]
  },
  {
   "cell_type": "code",
   "execution_count": 49,
   "metadata": {
    "scrolled": true
   },
   "outputs": [
    {
     "name": "stdout",
     "output_type": "stream",
     "text": [
      "Management of Hidradenitis Suppurativa in Patients with Metabolic Comorbidities\n",
      "{\"title\": \"Management of Hidradenitis Suppurativa in Patients with Metabolic Comorbidities\", \"abstract\": {\"background\": \"Hidradenitis suppurativa is a chronic inflammatory skin condition associated with an increased prevalence of individual metabolic conditions such as insulin resistance, obesity, hyperlipidemia, hypertension, and with the metabolic syndrome, as a constellation of these risk factors. This places affected patients at an increased risk of early cardiovascular morbidity and mortality. Moreover, many of the therapeutic options, including the newer biologics, used in the treatment of hidradenitis suppurativa have both beneficial and adverse metabolic effects. Therefore, it is critical for physicians to consider the complex interactions between the disease process and the treatment options in the holistic management of these patients with an intrinsically higher risk of metabolic consequences. Other chronic systemic inflammatory diseases such as psoriasis and rheumatoid arthritis have been studied more extensively with regard to their associations and share an underlying link with the metabolic syndrome; we can draw upon the existing knowledge in our understanding and management of hidradenitis suppurativa.\", \"objective\": \"Hidradenitis suppurativa, or acne inversa, is a disorder of the follicular portion of the folliculo-pilo-sebaceous unit, with relapsing chronic skin inflammation characterized by subcutaneous abscesses and sinuses1. It occurs predominantly in skin folds of the axilla, groins, and buttocks, and heals with substantial scarring, negatively impacting the quality of life2. The onset is insidious, usually occurring after puberty in the second or third decades of life, with women more commonly affected2. The greater female preponderance may imply greater end-organ sensitivity to androgens. Androgen receptors are regulated by the forkhead box transcription factor O1 (FoxO1), insulin and insulin-like growth factor-1 (IGF-1), which are also key factors involved in the metabolic syndrome3.\", \"method\": \"The pathogenesis of hidradenitis suppurativa is postulated to begin with hair follicle occlusion leading to lympho-histiocytic inflammation1, with the involvement of pro-inflammatory cytokines interleukin (IL)-1 beta, IL-10, IL-12, IL-23, and tumor necrosis factor (TNF)-alpha4,5, and over-activation of the mammalian target of rapamycin complex-1 (mTORC1) signalling3. Over-activated mTORC1 increases androgen hormonal secretion and contributes towards driving the proliferation of sebaceous follicles. Hence, the disease, at least as far as the initial plugging of the follicular epithelium is concerned, is driven by intracellular mechanisms that are in turn driven by, amongst other factors, diet. Indeed, the diet that is responsible for the metabolic syndrome contains the same metabolic drivers leading to the androgen-driven overproduction of sebum and overgrowth of the intra-ductal keratinocytes1.\", \"result\": \"It is well established that chronic systemic inflammatory conditions such as rheumatoid arthritis and psoriasis are associated with the metabolic syndrome6,7 which comprises a combination of the following conditions: insulin resistance, abdominal obesity, atherogenic hyperlipidemia, hypertension, a pro-inflammatory state, and a pro-thrombotic state8. In contrast, hidradenitis suppurativa is a more localized inflammation of the skin. Nevertheless, in recent years, several studies have shown a clear association between hidradenitis suppurativa with the individual metabolic conditions, and with the metabolic syndrome as a constellation of risk factors9.\", \"conclusion\": \"An Israeli cross-sectional study10 which included 3,207 patients with hidradenitis suppurativa and 6,412 controls, showed that hidradenitis suppurativa was significantly associated with the metabolic syndrome, with an odds ratio (OR) of 1.61, and with the individual risk factors of diabetes mellitus (OR 1.41), obesity (OR 1.71), hyperlipidemia (OR 1.14) and hypertension (OR 1.19). A Danish cross-sectional hospital-based population study11 identified 32 patients with hidradenitis suppurativa from an outpatient dermatology clinic, 326 patients with hidradenitis suppurativa from the general population, and 14,851 controls from the general population and found an increased prevalence of metabolic syndrome amongst the hidradenitis suppurativa patients from the hospital and from the general population, with an OR of 5.74 and 2.44, respectively, compared to the control group. The OR was 6.38 and 2.56, respectively for diabetes mellitus, 3.62 and 2.24 for obesity, and 2.97 and 1.94 for lower levels of high-density lipoprotein (HDL) cholesterol. Overall, the ORs were higher for the hidradenitis suppurativa patients from the hospital group than from the population group. This is comparable to a German study12 that examined 80 hidradenitis suppurativa patients hospitalized for surgical treatment and 100 controls, which showed an increased prevalence of metabolic syndrome, with an adjusted OR of 4.46. The trend was similar, in that the hidradenitis suppurativa group were 4.09 times more likely to have hyperglycemia, 5.88 times more likely to have central obesity, 2.24 times more likely to have hypertriglyceridemia, and 4.56 times more likely to have low HDL levels.\"}, \"keyword\": [\"Diabetes mellitus\", \" Hidradenitis suppurativa\", \" Hyperlipidemias\", \" Metabolic syndrome X\", \" Obesity\"]}\n"
     ]
    }
   ],
   "source": [
    "target_url = \"https://www.ncbi.nlm.nih.gov/pmc/articles/PMC4828375/\"\n",
    "json_file = url2json(target_url)\n",
    "print(json_file)"
   ]
  },
  {
   "cell_type": "code",
   "execution_count": null,
   "metadata": {},
   "outputs": [],
   "source": []
  }
 ],
 "metadata": {
  "kernelspec": {
   "display_name": "Python 3",
   "language": "python",
   "name": "python3"
  },
  "language_info": {
   "codemirror_mode": {
    "name": "ipython",
    "version": 3
   },
   "file_extension": ".py",
   "mimetype": "text/x-python",
   "name": "python",
   "nbconvert_exporter": "python",
   "pygments_lexer": "ipython3",
   "version": "3.7.4"
  }
 },
 "nbformat": 4,
 "nbformat_minor": 2
}
