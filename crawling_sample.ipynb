{
 "cells": [
  {
   "cell_type": "markdown",
   "metadata": {},
   "source": [
    "## 하나의 아티클 주소가 있을 때의 크롤링 샘플"
   ]
  },
  {
   "cell_type": "code",
   "execution_count": 1,
   "metadata": {},
   "outputs": [],
   "source": [
    "from bs4 import BeautifulSoup\n",
    "import requests\n",
    "import json\n",
    "def url2json(URL):\n",
    "    ###방법2\n",
    "    ###html 문서를 가져옵니다\n",
    "    res = requests.get(target_url)\n",
    "    res = res.text \n",
    "\n",
    "    ###html 문서를 파싱합니다.\n",
    "    soup = BeautifulSoup(res, 'html.parser')\n",
    "    \n",
    "    ###논문 제목을 가져옵니다.\n",
    "    paper_title = str(soup.title.string)\n",
    "    print(paper_title)\n",
    "    \n",
    "    ###논문 abstract를 가져옵니다.\n",
    "    try: #Original Articles의 경우\n",
    "        abstract_dict = {}\n",
    "        abstract_1_title= soup.find(id=\"__sec1title\").text\n",
    "        abstract_1_content= soup.find(id=\"__p1\").text\n",
    "        abstract_2_title= soup.find(id=\"__sec2title\").text\n",
    "        abstract_2_content= soup.find(id=\"__p2\").text\n",
    "        abstract_3_title= soup.find(id=\"__sec3title\").text\n",
    "        abstract_3_content= soup.find(id=\"__p3\").text\n",
    "        abstract_4_title= soup.find(id=\"__sec4title\").text\n",
    "        abstract_4_content= soup.find(id=\"__p4\").text\n",
    "        abstract_5_title= soup.find(id=\"__sec5title\").text\n",
    "        abstract_5_content= soup.find(id=\"__p5\").text\n",
    "        \n",
    "        abstract_dict[abstract_1_title] = abstract_1_content\n",
    "        abstract_dict[abstract_2_title] = abstract_2_content\n",
    "        abstract_dict[abstract_3_title] = abstract_3_content\n",
    "        abstract_dict[abstract_4_title] = abstract_4_content\n",
    "        abstract_dict[abstract_5_title] = abstract_5_content\n",
    "        \n",
    "    except AttributeError: #Review Article 의 경우\n",
    "        abstract_dict = abstract_1_content\n",
    "        \n",
    "    ###논문 키워드를 가져옵니다.\n",
    "    keywords = soup.find_all(\"span\", class_=\"kwd-text\")[0].text.split(\",\")\n",
    "    \n",
    "    ###json 파일로 변환\n",
    "    doc_dict={}\n",
    "\n",
    "    doc_dict[\"title\"] = paper_title\n",
    "    doc_dict[\"abstract\"] = abstract_dict\n",
    "    doc_dict[\"keyword\"] = keywords\n",
    "    \n",
    "    json_f=json.dumps(doc_dict, sort_keys=True, indent=4)\n",
    "    print(json_f)\n",
    "    return json.dumps(json_f)"
   ]
  },
  {
   "cell_type": "code",
   "execution_count": 2,
   "metadata": {},
   "outputs": [
    {
     "name": "stdout",
     "output_type": "stream",
     "text": [
      "Treatment of Melasma with Pulsed-Dye Laser and 1,064-nm Q-Switched Nd:YAG Laser: A Split-Face Study\n",
      "{\n",
      "    \"abstract\": {\n",
      "        \"Background\": \"Melasma is an acquired pigmentary disorder that is often therapeutically challenging. Recent evidence suggests that vascular abnormalities are involved in melasma pathogenesis. Pulsed-dye laser (PDL) is considered as standard therapy for vascular lesions.\",\n",
      "        \"Conclusion\": \"PDL combined with QSNY may be considered as a safe and effective treatment for melasma patients who show visibly widened capillaries on dermoscopy.\",\n",
      "        \"Methods\": \"Seventeen melasma patients were enrolled in this study. All subjects were treated with a total of nine QSNY treatment sessions at one-week intervals. Three sessions of PDL were additionally performed immediately after QSNY treatment on the half of the face at baseline, week 4, and week 8. The melasma area and the severity index (MASI) score was calculated at the baseline, one week after the last treatment (week 9), as well as at the follow-up 8 weeks after the last treatment (week 16). Dermoscopic images at the baseline were classified as to whether the visibly widened capillaries were detected or not.\",\n",
      "        \"Objective\": \"To assess the efficacy of PDL combined with low-fluence Q-switched Nd:YAG laser (QSNY) in the treatment of melasma.\",\n",
      "        \"Results\": \"MASI scores on the PDL+QSNY and QSNY side decreased significantly during the study period. There was no significant difference in the MASI score change between both sides in all periods. However, seven patients who had visibly widened capillaries on dermoscopy showed significant difference in both sides in terms of changes in the MASI score during treatment.\"\n",
      "    },\n",
      "    \"keyword\": [\n",
      "        \"Dermoscopy\",\n",
      "        \" Melasma\",\n",
      "        \" Pulsed dye lasers\",\n",
      "        \" Q-switched lasers\"\n",
      "    ],\n",
      "    \"title\": \"Treatment of Melasma with Pulsed-Dye Laser and 1,064-nm Q-Switched Nd:YAG Laser: A Split-Face Study\"\n",
      "}\n"
     ]
    }
   ],
   "source": [
    "target_url = 'https://www.ncbi.nlm.nih.gov/pmc/articles/PMC5762458/'\n",
    "json_file = url2json(target_url)"
   ]
  },
  {
   "cell_type": "code",
   "execution_count": 3,
   "metadata": {
    "scrolled": true
   },
   "outputs": [
    {
     "name": "stdout",
     "output_type": "stream",
     "text": [
      "Management of Hidradenitis Suppurativa in Patients with Metabolic Comorbidities\n",
      "{\n",
      "    \"abstract\": \"Hidradenitis suppurativa is a chronic inflammatory skin condition associated with an increased prevalence of individual metabolic conditions such as insulin resistance, obesity, hyperlipidemia, hypertension, and with the metabolic syndrome, as a constellation of these risk factors. This places affected patients at an increased risk of early cardiovascular morbidity and mortality. Moreover, many of the therapeutic options, including the newer biologics, used in the treatment of hidradenitis suppurativa have both beneficial and adverse metabolic effects. Therefore, it is critical for physicians to consider the complex interactions between the disease process and the treatment options in the holistic management of these patients with an intrinsically higher risk of metabolic consequences. Other chronic systemic inflammatory diseases such as psoriasis and rheumatoid arthritis have been studied more extensively with regard to their associations and share an underlying link with the metabolic syndrome; we can draw upon the existing knowledge in our understanding and management of hidradenitis suppurativa.\",\n",
      "    \"keyword\": [\n",
      "        \"Diabetes mellitus\",\n",
      "        \" Hidradenitis suppurativa\",\n",
      "        \" Hyperlipidemias\",\n",
      "        \" Metabolic syndrome X\",\n",
      "        \" Obesity\"\n",
      "    ],\n",
      "    \"title\": \"Management of Hidradenitis Suppurativa in Patients with Metabolic Comorbidities\"\n",
      "}\n"
     ]
    }
   ],
   "source": [
    "target_url = \"https://www.ncbi.nlm.nih.gov/pmc/articles/PMC4828375/\"\n",
    "json_file = url2json(target_url)"
   ]
  },
  {
   "cell_type": "code",
   "execution_count": 8,
   "metadata": {},
   "outputs": [
    {
     "name": "stdout",
     "output_type": "stream",
     "text": [
      "Abstract\n",
      "INTRODUCTION\n",
      "HIDRADENITIS SUPPURATIVA ASSOCIATED WITH THE METABOLIC SYNDROME\n",
      "MANAGEMENT OF HIDRADENITIS SUPPURATIVA IN PATIENTS WITH METABOLIC COMORBIDITIES\n",
      "CONCLUSION\n",
      "References\n",
      "Formats:\n",
      "Share\n"
     ]
    }
   ],
   "source": [
    "from bs4 import BeautifulSoup\n",
    "import requests\n",
    "import json\n",
    "def url2json_new(URL):\n",
    "    ###방법2\n",
    "    ###html 문서를 가져옵니다\n",
    "    res = requests.get(target_url)\n",
    "    res = res.text \n",
    "\n",
    "    ###html 문서를 파싱합니다.\n",
    "    soup = BeautifulSoup(res, 'html.parser')\n",
    "    \n",
    "    keywords = soup.find_all(\"h2\")\n",
    "    for keyword in keywords:\n",
    "        print(keyword.text)\n",
    "url2json_new(\"https://www.ncbi.nlm.nih.gov/pmc/articles/PMC6335938/\")"
   ]
  },
  {
   "cell_type": "code",
   "execution_count": null,
   "metadata": {},
   "outputs": [],
   "source": []
  }
 ],
 "metadata": {
  "kernelspec": {
   "display_name": "Python 3",
   "language": "python",
   "name": "python3"
  },
  "language_info": {
   "codemirror_mode": {
    "name": "ipython",
    "version": 3
   },
   "file_extension": ".py",
   "mimetype": "text/x-python",
   "name": "python",
   "nbconvert_exporter": "python",
   "pygments_lexer": "ipython3",
   "version": "3.7.4"
  }
 },
 "nbformat": 4,
 "nbformat_minor": 2
}
